{
 "cells": [
  {
   "cell_type": "markdown",
   "metadata": {},
   "source": [
    "# Chương 03. Hoạt hình hóa hình ảnh"
   ]
  },
  {
   "cell_type": "markdown",
   "metadata": {},
   "source": [
    "- Trong phần này, chúng ta sẽ tìm hiểu làm thế nào để chuyển đổi một hình ảnh thành một hình ảnh giống như phim hoạt hình. \n",
    "- Chúng ta sẽ tìm hiểu cách truy cập webcam và lấy tín hiệu đầu vào bàn phím/chuột(keyboard/mouse) trong suốt quá trình livestream. \n",
    "- Chúng ta cũng sẽ tìm hiểu về một số bộ lọc hình ảnh nâng cao và xem cách chúng ta có thể sử dụng chúng để hoạt hình hóa một video đầu vào."
   ]
  },
  {
   "cell_type": "markdown",
   "metadata": {},
   "source": [
    "![From real to cartoon](data:image/jpeg;base64,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)"
   ]
  },
  {
   "cell_type": "markdown",
   "metadata": {},
   "source": [
    "## Mục tiêu\n",
    "    + Cách truy cập webcam \n",
    "    + Cách lấy tín hiệu đầu vào từ bàn phím và chuột trong livestream\n",
    "    + Cách tạo một ứng dụng tương tác\n",
    "    + Cách sử dụng bộ lọc hình ảnh nâng cao \n",
    "    + Làm thế nào để hoạt hình hóa một hình ảnh"
   ]
  },
  {
   "cell_type": "markdown",
   "metadata": {},
   "source": [
    "### Nội dung:\n",
    "1. **Accessing the webcam**\n",
    "2. **Keyboard inputs**\n",
    "3. **Mouse inputs**\n",
    "4. **Interacting with a live video stream**\n",
    "5. **Cartoonizing an image**"
   ]
  },
  {
   "cell_type": "markdown",
   "metadata": {},
   "source": [
    "---"
   ]
  },
  {
   "cell_type": "markdown",
   "metadata": {},
   "source": [
    "## 1. Accessing the webcam (rất phức tạp khi bắt tín hiệu các camera khác nhau)."
   ]
  },
  {
   "cell_type": "markdown",
   "metadata": {},
   "source": [
    "- Chúng ta có thể xây dựng các ứng dụng rất thú vị bằng cách sử dụng livestream từ webcam.\n",
    "- OpenCV cung cấp một đối tượng quay video xử lý mọi thứ liên quan đến việc mở và đóng webcam. Tất cả những gì chúng ta cần làm là tạo đối tượng đó và tiếp tục đọc các frame từ nó."
   ]
  },
  {
   "cell_type": "markdown",
   "metadata": {},
   "source": [
    "- Đoạn code sau sẽ **mở webcam**, **chụp các khung hình**, **thu nhỏ chúng đi phân nữa**, và sau đó **hiển thị chúng trong một cửa sổ**. Bạn có thể nhấn phím `Esc` để thoát:"
   ]
  },
  {
   "cell_type": "code",
   "execution_count": 1,
   "metadata": {},
   "outputs": [],
   "source": [
    "import cv2\n",
    "cap = cv2.VideoCapture(0)\n",
    "\n",
    "# Check if the webcam is opened correctly\n",
    "if not cap.isOpened():\n",
    "    raise IOError(\"Cannot open webcam\")\n",
    "    \n",
    "while True:\n",
    "    ret, frame = cap.read() \n",
    "    frame = cv2.resize(frame, None, fx=1, fy=1, interpolation=cv2.INTER_AREA)\n",
    "    cv2.imshow('Input', frame)\n",
    "    c = cv2.waitKey(1) # Dừng !!\n",
    "    if c == 27:\n",
    "        break\n",
    "        \n",
    "cap.release() ## Giải phóng camera, tùy thuộc camera, mỗi camera có số channel khác nhau.\n",
    "cv2.destroyAllWindows()"
   ]
  },
  {
   "cell_type": "markdown",
   "metadata": {},
   "source": [
    "### Under the hood (Đi vào chi tiết)"
   ]
  },
  {
   "cell_type": "markdown",
   "metadata": {},
   "source": [
    "- Như chúng ta có thể thấy trong đoạn code trước, chúng ta sử dụng hàm **VideoCapture** của OpenCV để tạo ra `the video capture object cap`. \n",
    "- Khi nó được tạo ra, chúng ta bắt đầu một **vòng lặp vô hạn** và tiếp tục đọc khung hình từ webcam cho đến khi chúng ta nhập lệnh **Esc** từ bàn phím."
   ]
  },
  {
   "cell_type": "code",
   "execution_count": 2,
   "metadata": {},
   "outputs": [],
   "source": [
    "ret, frame = cap.read()"
   ]
  },
  {
   "cell_type": "markdown",
   "metadata": {},
   "source": [
    "- Ở đây, **ret** là giá trị Boolean được trả về bởi hàm **read** và liệu  có hay không: khung hình đã được chụp thành công.\n",
    "- Nếu khung được chụp chính xác, nó sẽ được lưu trong biến **frame**.\n",
    "- Vòng lặp này sẽ tiếp tục chạy cho đến khi chúng ta nhấn phím **Esc**. \n",
    "- Vì vậy, chúng ta kiểm tra xem người dùng có ấn phím Esc hay không:"
   ]
  },
  {
   "cell_type": "code",
   "execution_count": 3,
   "metadata": {},
   "outputs": [],
   "source": [
    "if c == 27:\n",
    "    pass"
   ]
  },
  {
   "cell_type": "markdown",
   "metadata": {},
   "source": [
    "- Như chúng ta đã biết, giá trị ASCII của Esc là 27. \n",
    "- Một khi chúng ta bắt gặp nó, nó làm cho ta thoát vòng lặp và cho ta **the video capture object**. \n",
    "- Dòng **cap.release ()** rất quan trọng vì nó giải phóng tài nguyên webcam để ứng dụng khác có thể sử dụng nó."
   ]
  },
  {
   "cell_type": "markdown",
   "metadata": {},
   "source": [
    "#### Extending capture options"
   ]
  },
  {
   "cell_type": "markdown",
   "metadata": {},
   "source": [
    "- Trong đoạn code được thảo luận trước đó, **cv2.VideoCapture(0)** xác định việc sử dụng kết nối mặc định webcam bằng cách sử dụng đầu đọc tự động phát hiện, nhưng có nhiều tùy chọn liên quan đến cách đọc hình ảnh từ webcam."
   ]
  },
  {
   "cell_type": "markdown",
   "metadata": {},
   "source": [
    "- Cũng có thể buộc thực hiện trình đọc cụ thể nếu có sẵn nhiều, như vậy như *cv2.CAP_FFMPEG* và *cv2.CAP_IMAGES* hoặc mọi người bắt đầu với *cv2.CAP_*. \n",
    "- Ví dụ, có thể sử dụng trình đọc *QuickTime* trên chỉ mục webcam 1:"
   ]
  },
  {
   "cell_type": "code",
   "execution_count": 4,
   "metadata": {},
   "outputs": [],
   "source": [
    "cap = cv2.VideoCapture(1 + cv2.CAP_QT) # Webcam index 1 + reader implementation QuickTime"
   ]
  },
  {
   "cell_type": "code",
   "execution_count": 5,
   "metadata": {},
   "outputs": [],
   "source": [
    "import cv2\n",
    "cap = cv2.VideoCapture(0)\n",
    "\n",
    "# Check if the webcam is opened correctly\n",
    "if not cap.isOpened():\n",
    "    raise IOError(\"Cannot open webcam\")\n",
    "while True:\n",
    "    ret, frame = cap.read()\n",
    "    frame = cv2.resize(frame, None, fx=2, fy=2, interpolation=cv2.INTER_AREA)\n",
    "    cv2.imshow('Input', frame)\n",
    "    c = cv2.waitKey(1)\n",
    "    if c == 27:\n",
    "        break\n",
    "        \n",
    "cap.release()\n",
    "cv2.destroyAllWindows()"
   ]
  },
  {
   "cell_type": "markdown",
   "metadata": {},
   "source": [
    "## 2. Keyboard inputs"
   ]
  },
  {
   "cell_type": "markdown",
   "metadata": {},
   "source": [
    "- Bây giờ chúng ta đã biết cách capture một livestream từ webcam, hãy xem cách sử dụng **bàn phím** để tương tác với **cửa sổ hiển thị livestream**:"
   ]
  },
  {
   "cell_type": "code",
   "execution_count": 6,
   "metadata": {},
   "outputs": [
    {
     "name": "stdout",
     "output_type": "stream",
     "text": [
      "Change color space of the input video stream using keyboard controls. \n",
      "    The control keys are:\n",
      "        1. Grayscale - press 'g'\n",
      "        2. YUV - press 'y'\n",
      "        3. HSV - press 'h'\n",
      "        \n"
     ]
    }
   ],
   "source": [
    "import cv2\n",
    "\n",
    "def print_howto():\n",
    "    print(\"\"\"Change color space of the input video stream using keyboard controls. \n",
    "    The control keys are:\n",
    "        1. Grayscale - press 'g'\n",
    "        2. YUV - press 'y'\n",
    "        3. HSV - press 'h'\n",
    "        \"\"\")\n",
    "    \n",
    "if __name__=='__main__':\n",
    "    print_howto()\n",
    "    cap = cv2.VideoCapture(0)\n",
    "    # Check if the webcam is opened correctly\n",
    "    if not cap.isOpened():\n",
    "        raise IOError(\"Cannot open webcam\")\n",
    "    cur_mode = None\n",
    "    while True:\n",
    "        # Read the current frame from webcam\n",
    "        ret, frame = cap.read()\n",
    "        # Resize the captured image\n",
    "        frame = cv2.resize(frame, None, fx=1.5, fy=1.5, interpolation=cv2.INTER_AREA)\n",
    "        c = cv2.waitKey(1)\n",
    "        if c == 27:\n",
    "            break\n",
    "        # Update cur_mode only in case it is different and key was pressed\n",
    "        # In case a key was not pressed during the iteration result is -1 or 255, depending on library versions\n",
    "        if c != -1 and c != 255 and c != cur_mode:\n",
    "            cur_mode = c\n",
    "            \n",
    "        if cur_mode == ord('g'):\n",
    "            output = cv2.cvtColor(frame, cv2.COLOR_BGR2GRAY)\n",
    "        elif cur_mode == ord('y'):\n",
    "            output = cv2.cvtColor(frame, cv2.COLOR_BGR2YUV)\n",
    "        elif cur_mode == ord('h'):\n",
    "            output = cv2.cvtColor(frame, cv2.COLOR_BGR2HSV)\n",
    "        elif cur_mode == ord('f'):\n",
    "            output = cv2.cvtColor(frame, cv2.COLOR_BGR2HLS_FULL)\n",
    "        elif cur_mode == ord('l'):\n",
    "            output = cv2.cvtColor(frame, cv2.COLOR_LBGR2Lab)\n",
    "        else:\n",
    "            output = frame\n",
    "        cv2.imshow('Webcam', output)\n",
    "        \n",
    "cap.release()\n",
    "cv2.destroyAllWindows()"
   ]
  },
  {
   "cell_type": "markdown",
   "metadata": {},
   "source": [
    "- Chương trình này sẽ hiển thị luồng video đầu vào và chờ cho đầu vào bàn phím thay đổi Không gian màu **(color space)**. \n",
    "- Nếu bạn chạy chương trình trước đó, bạn sẽ thấy cửa sổ hiển thị luồng video đầu vào từ webcam.\n",
    "- Nếu bạn nhấn **G**, bạn sẽ thấy không gian màu của luồng đầu vào được chuyển đổi sang thang độ xám. \n",
    "- Nếu bạn nhấn **Y**, luồng đầu vào sẽ được chuyển đổi đến không gian màu **YUV**.\n",
    "- Tương tự, nếu bạn nhấn **H**, bạn sẽ thấy hình ảnh được chuyển đổi thành Không gian màu **HSV**."
   ]
  },
  {
   "cell_type": "markdown",
   "metadata": {},
   "source": [
    "- Như chúng ta biết, chúng ta sử dụng hàm **WaitKey()** để nghe các sự kiện từ bàn phím.\n",
    "- Vì vậy chúng ta gặp phải các tổ hợp phím khác nhau, chúng tôi thực hiện các hành động thích hợp. \n",
    "- Lý do chúng ta đang sử dụng hàm **ord()** là vì **WaitKey()** trả về giá trị ASCII của đầu vào bàn phím; do đó, chúng ta cần chuyển đổi các ký tự thành dạng ASCII của chúng trước khi kiểm tra giá trị của chúng."
   ]
  },
  {
   "cell_type": "markdown",
   "metadata": {},
   "source": [
    "## 3. Mouse inputs"
   ]
  },
  {
   "cell_type": "markdown",
   "metadata": {},
   "source": [
    "- Trong phần này, chúng ta sẽ xem cách sử dụng chuột để tương tác với cửa sổ hiển thị.\n",
    "- Hãy bắt đầu với một việc gì đó đơn giản, chúng ta sẽ viết một chương trình phát hiện ra vị trị của chuột khi ta nhấp vào. \n",
    "- Khi chúng ta phát hiện ra nó, chúng ta sẽ làm nổi bật góc phần tư đó:"
   ]
  },
  {
   "cell_type": "code",
   "execution_count": 7,
   "metadata": {},
   "outputs": [],
   "source": [
    "import cv2\n",
    "import numpy as np\n",
    "\n",
    "def detect_quadrant(event, x, y, flags, param):\n",
    "    if event == cv2.EVENT_LBUTTONDOWN:\n",
    "        if x > width/2:\n",
    "            if y > height/2:\n",
    "                point_top_left = (int(width/2), int(height/2))\n",
    "                point_bottom_right = (width-1, height-1)\n",
    "            else:\n",
    "                point_top_left = (int(width/2), 0)\n",
    "                point_bottom_right = (width-1, int(height/2))\n",
    "        else:\n",
    "            if y > height/2:\n",
    "                point_top_left = (0, int(height/2))\n",
    "                point_bottom_right = (int(width/2), height-1)\n",
    "            else:\n",
    "                point_top_left = (0, 0)\n",
    "                point_bottom_right = (int(width/2), int(height/2))\n",
    "        img = param[\"img\"]\n",
    "        # Repaint all in white again\n",
    "        cv2.rectangle(img, (0,0), (width-1,height-1), (255,255,255), -1)\n",
    "        # Paint green quadrant\n",
    "        cv2.rectangle(img, point_top_left, point_bottom_right, (0,100,0),-1)\n",
    "\n",
    "if __name__=='__main__':\n",
    "    width, height = 640, 480\n",
    "    img = 255 * np.ones((height, width, 3), dtype=np.uint8)\n",
    "    cv2.namedWindow('Input window')\n",
    "    cv2.setMouseCallback('Input window', detect_quadrant, {\"img\": img})\n",
    "    \n",
    "    while True:\n",
    "        cv2.imshow('Input window', img)\n",
    "        c = cv2.waitKey(1)\n",
    "        if c == 27:\n",
    "            break\n",
    "    cv2.destroyAllWindows()"
   ]
  },
  {
   "cell_type": "markdown",
   "metadata": {},
   "source": [
    "### What's happening underneath?"
   ]
  },
  {
   "cell_type": "markdown",
   "metadata": {},
   "source": [
    "- Hãy bắt đầu với hàm chính trong chương trình này.\n",
    "- Chúng ta tạo ra một hình ảnh màu trắng mà chúng ta sẽ nhấp bằng chuột.\n",
    "- Sau đó chúng ta tạo một cửa sổ được đặt tên và **liên kết Chức năng MouseCallback** cho cửa sổ này. \n",
    "- Hàm **MouseCallback** về cơ bản là hàm sẽ được gọi khi phát hiện sự kiện nhấp chuột.\n",
    "- Có nhiều sự kiến chuột khác nhau, chẳng hạn như: nhấp, nhấp đúp, kéo, v.v. Trong trường hợp của này, chúng ta chỉ muốn phát hiện một cú click chuột.\n",
    "- Trong hàm **Det_quadrant**, chúng ta kiểm tra đối số đầu vào đầu tiên sự kiện để xem những gì hành động đã được thực hiện. \n",
    "- OpenCV cung cấp một tập hợp các sự kiện được xác định trước và chúng ta có thể gọi họ bằng cách sử dụng các từ khóa cụ thể.\n",
    "- Nếu bạn muốn xem danh sách tất cả các sự kiện chuột, bạn có thể vào shell Python và gõ như sau:"
   ]
  },
  {
   "cell_type": "code",
   "execution_count": 8,
   "metadata": {},
   "outputs": [
    {
     "name": "stdout",
     "output_type": "stream",
     "text": [
      "['EVENT_FLAG_ALTKEY', 'EVENT_FLAG_CTRLKEY', 'EVENT_FLAG_LBUTTON', 'EVENT_FLAG_MBUTTON', 'EVENT_FLAG_RBUTTON', 'EVENT_FLAG_SHIFTKEY', 'EVENT_LBUTTONDBLCLK', 'EVENT_LBUTTONDOWN', 'EVENT_LBUTTONUP', 'EVENT_MBUTTONDBLCLK', 'EVENT_MBUTTONDOWN', 'EVENT_MBUTTONUP', 'EVENT_MOUSEHWHEEL', 'EVENT_MOUSEMOVE', 'EVENT_MOUSEWHEEL', 'EVENT_RBUTTONDBLCLK', 'EVENT_RBUTTONDOWN', 'EVENT_RBUTTONUP']\n"
     ]
    }
   ],
   "source": [
    "import cv2\n",
    "print([x for x in dir(cv2) if x.startswith('EVENT')])"
   ]
  },
  {
   "cell_type": "markdown",
   "metadata": {},
   "source": [
    "- Đối số thứ hai và thứ ba trong hàm **Det_quadrant** cung cấp tọa độ X,Y của sự kiện nhấp chuột.\n",
    "- Khi chúng ta biết các tọa độ này, nó rất đơn giản để xác định góc phần tư của nó là gì. \n",
    "- Với thông tin này, chúng ta chỉ cần tiếp tục và vẽ một hình chữ nhật với màu được chỉ định, sử dụng **cv2.rectangle()**. \n",
    "- Đây là hàm rất hữu ích cho việc lấy điểm trên cùng bên trái và điểm dưới cùng bên phải để vẽ hình chữ nhật trên một hình ảnh với màu sắc được chỉ định."
   ]
  },
  {
   "cell_type": "markdown",
   "metadata": {},
   "source": [
    "## 4. Interacting with a live video stream"
   ]
  },
  {
   "cell_type": "markdown",
   "metadata": {},
   "source": [
    "- Chúng ta hãy xem làm thế nào có thể sử dụng chuột để tương tác với một luồng video trực tiếp từ webcam. Chúng ta có thể sử dụng chuột để chọn một vùng và sau đó áp dụng hiệu ứng âm bản vào đó khu vực, như thể hiện trong hình ảnh sau đây:"
   ]
  },
  {
   "cell_type": "markdown",
   "metadata": {},
   "source": [
    "![interactive1.png](images\\interactive1.png)"
   ]
  },
  {
   "cell_type": "markdown",
   "metadata": {},
   "source": [
    "- Trong đoạn code sau, chúng ta sẽ ghi lại luồng video từ webcam, chọn một khu vực mà ta quan tâm bởi chuột, và sau đó áp dụng hiệu ứng này:"
   ]
  },
  {
   "cell_type": "code",
   "execution_count": 9,
   "metadata": {},
   "outputs": [],
   "source": [
    "import cv2\n",
    "import numpy as np\n",
    "\n",
    "def update_pts(params, x, y):\n",
    "    global x_init, y_init\n",
    "    params[\"top_left_pt\"] = (min(x_init, x), min(y_init, y))\n",
    "    params[\"bottom_right_pt\"] = (max(x_init, x), max(y_init, y))\n",
    "    img[y_init:y, x_init:x] = 255 - img[y_init:y, x_init:x]\n",
    "\n",
    "def draw_rectangle(event, x, y, flags, params):\n",
    "    global x_init, y_init, drawing\n",
    "    # First click initialize the init rectangle point\n",
    "    if event == cv2.EVENT_LBUTTONDOWN:\n",
    "        drawing = True\n",
    "        x_init, y_init = x, y\n",
    "    # Meanwhile mouse button is pressed, update diagonal rectangle point\n",
    "    elif event == cv2.EVENT_MOUSEMOVE and drawing:\n",
    "        update_pts(params, x, y)\n",
    "    # Once mouse botton is release\n",
    "    elif event == cv2.EVENT_LBUTTONUP:\n",
    "        drawing = False\n",
    "        update_pts(params, x, y)\n",
    "        \n",
    "if __name__=='__main__':\n",
    "    drawing = False\n",
    "    event_params = {\"top_left_pt\": (-1, -1), \"bottom_right_pt\": (-1, -1)}\n",
    "    cap = cv2.VideoCapture(0)\n",
    "    # Check if the webcam is opened correctly\n",
    "    if not cap.isOpened():\n",
    "        raise IOError(\"Cannot open webcam\")\n",
    "    cv2.namedWindow('Webcam')\n",
    "    # Bind draw_rectangle function to every mouse event\n",
    "    cv2.setMouseCallback('Webcam', draw_rectangle, event_params)\n",
    "    \n",
    "    while True:\n",
    "        ret, frame = cap.read()\n",
    "        img = cv2.resize(frame, None, fx=1, fy=1, interpolation=cv2.INTER_AREA)\n",
    "        (x0,y0), (x1,y1) = event_params[\"top_left_pt\"], event_params[\"bottom_right_pt\"]\n",
    "        img[y0:y1, x0:x1] = 255 - img[y0:y1, x0:x1]\n",
    "        cv2.imshow('Webcam', img)\n",
    "        c = cv2.waitKey(1)\n",
    "        if c == 27:\n",
    "            break\n",
    "            \n",
    "cap.release()\n",
    "cv2.destroyAllWindows()"
   ]
  },
  {
   "cell_type": "markdown",
   "metadata": {},
   "source": [
    "- Nếu bạn chạy chương trình trước, bạn sẽ thấy một cửa sổ hiển thị luồng video. \n",
    "- Bạn chỉ có thể vẽ một hình chữ nhật trên cửa sổ bằng chuột và bạn sẽ thấy vùng đó được chuyển đổi thành âm bản của nó."
   ]
  },
  {
   "cell_type": "markdown",
   "metadata": {},
   "source": [
    "### How did we do it?"
   ]
  },
  {
   "cell_type": "markdown",
   "metadata": {},
   "source": [
    "- Như chúng ta có thể thấy trong chức năng chính của chương trình, chúng ta khởi tạo một đối tượng quay video. Sau đó chúng ta liên kết hàm **draw_rectanlge** với hàm **MouseCallback** trong dòng sau:"
   ]
  },
  {
   "cell_type": "code",
   "execution_count": 10,
   "metadata": {},
   "outputs": [],
   "source": [
    "cv2.setMouseCallback('Webcam', draw_rectangle, event_params)"
   ]
  },
  {
   "cell_type": "markdown",
   "metadata": {},
   "source": [
    "- Sau đó chúng ta bắt đầu một vòng lặp vô hạn và bắt đầu ghi lại luồng video. \n",
    "- Chúng ta hãy xem những gì là xảy ra trong hàm **draw_rectangle**; Bất cứ khi nào chúng ta vẽ một hình chữ nhật bằng cách sử dụng chuột, về cơ bản chúng ta phải phát hiện ba loại sự kiện chuột: nhấp chuột, chuột chuyển động, và phát hành nút chuột. \n",
    "- Đây chính xác là những gì chúng ta làm trong hàm này này. Bất cứ khi nào chúng tôi phát hiện sự kiện nhấp chuột, chúng ta sẽ khởi tạo điểm trên cùng bên trái của hình chữ nhật.\n",
    "- Khi chúng ta di chuyển chuột, chọn khu vực quan tâm bằng cách giữ vị trí hiện tại là điểm dưới cùng bên phải của hình chữ nhật và nó được cập nhật tại đối tượng được truyền bởi tham chiếu dưới dạng đối số thứ ba **(event_params)**."
   ]
  },
  {
   "cell_type": "markdown",
   "metadata": {},
   "source": [
    "- Khi chúng ta có vùng quan tâm, chúng ta chỉ đảo ngược các pixel để áp dụng âm bản bản hiệu ứng. \n",
    "- Chúng ta trừ đi giá trị pixel hiện tại bởi 255 và điều này mang lại cho chúng ta hiệu ứng mong muốn. \n",
    "- Khi di chuyển chuột dừng lại và phát hiện sự kiện button-up, chúng ta sẽ ngừng cập nhật vị trí dưới cùng bên phải của hình chữ nhật. Chúng ta chỉ tiếp tục hiển thị hình ảnh này cho đến khi hình ảnh khác sự kiện nhấp chuột được phát hiện."
   ]
  },
  {
   "cell_type": "markdown",
   "metadata": {},
   "source": [
    "## 5. Cartoonizing an image"
   ]
  },
  {
   "cell_type": "markdown",
   "metadata": {},
   "source": [
    "- Bây giờ chúng ta đã biết cách xử lý các đầu vào webcam và bàn phím / chuột, hãy tiếp tục và xem làm thế nào để chuyển đổi một hình ảnh thành một hình ảnh giống như phim hoạt hình. \n",
    "- Chúng ta có thể chuyển đổi một hình ảnh thành hoặc là một bản phác thảo hoặc một hình ảnh hoạt hình màu."
   ]
  },
  {
   "cell_type": "markdown",
   "metadata": {},
   "source": [
    "- Sau đây là một ví dụ về hình ảnh của một bản phác thảo:"
   ]
  },
  {
   "cell_type": "markdown",
   "metadata": {},
   "source": [
    "![cartoonized image](images\\cartoonizeimage.png)"
   ]
  },
  {
   "cell_type": "markdown",
   "metadata": {},
   "source": [
    "- Nếu bạn áp dụng hiệu ứng hoạt hình cho hình ảnh màu, nó sẽ trông giống như thế này tiếp theo hình ảnh:"
   ]
  },
  {
   "cell_type": "markdown",
   "metadata": {},
   "source": [
    "![cartoonized image](images\\cartoonizeimage1.png)"
   ]
  },
  {
   "cell_type": "code",
   "execution_count": 11,
   "metadata": {},
   "outputs": [
    {
     "name": "stdout",
     "output_type": "stream",
     "text": [
      " Change cartoonizing mode of image:\n",
      "        1. Cartoonize without Color - press 's'\n",
      "        2. Cartoonize with Color - press 'c'\n",
      "    \n"
     ]
    }
   ],
   "source": [
    "import cv2\n",
    "import numpy as np\n",
    "\n",
    "def print_howto():\n",
    "    print(\"\"\" Change cartoonizing mode of image:\n",
    "        1. Cartoonize without Color - press 's'\n",
    "        2. Cartoonize with Color - press 'c'\n",
    "    \"\"\")\n",
    "\n",
    "def cartoonize_image(img, ksize=5, sketch_mode=False):\n",
    "    num_repetitions, sigma_color, sigma_space, ds_factor = 10, 5, 7, 4\n",
    "    # Convert image to grayscale\n",
    "    img_gray = cv2.cvtColor(img, cv2.COLOR_BGR2GRAY)\n",
    "    \n",
    "    # Apply median filter to the grayscale image\n",
    "    img_gray = cv2.medianBlur(img_gray, 7)\n",
    "    \n",
    "    # Detect edges in the image and threshold it\n",
    "    edges = cv2.Laplacian(img_gray, cv2.CV_8U, ksize=ksize)\n",
    "    ret, mask = cv2.threshold(edges, 100, 255, cv2.THRESH_BINARY_INV)\n",
    "    \n",
    "    # 'mask' is the sketch of the image\n",
    "    if sketch_mode:\n",
    "        return cv2.cvtColor(mask, cv2.COLOR_GRAY2BGR)\n",
    "    \n",
    "    # Resize the image to a smaller size for faster computation\n",
    "    img_small = cv2.resize(img, None, fx=1.0/ds_factor, fy=1.0/ds_factor, interpolation=cv2.INTER_AREA)\n",
    "    \n",
    "    # Apply bilateral filter the image multiple times\n",
    "    for i in range(num_repetitions):\n",
    "        img_small = cv2.bilateralFilter(img_small, ksize, sigma_color, sigma_space)\n",
    "        \n",
    "    img_output = cv2.resize(img_small, None, fx=ds_factor, fy=ds_factor, interpolation=cv2.INTER_LINEAR)\n",
    "    dst = np.zeros(img_gray.shape)\n",
    "    \n",
    "    # Add the thick boundary lines to the image using 'AND' operator\n",
    "    dst = cv2.bitwise_and(img_output, img_output, mask=mask)\n",
    "    return dst\n",
    "\n",
    "if __name__=='__main__':\n",
    "    print_howto()\n",
    "    cap = cv2.VideoCapture(0)\n",
    "    cur_mode = None\n",
    "    while True:\n",
    "        ret, frame = cap.read()\n",
    "        frame = cv2.resize(frame, None, fx=1.5, fy=1.5, interpolation=cv2.INTER_AREA)\n",
    "        c = cv2.waitKey(1)\n",
    "        if c == 27:\n",
    "            break\n",
    "        if c != -1 and c != 255 and c != cur_mode:\n",
    "            cur_mode = c\n",
    "        if cur_mode == ord('s'):\n",
    "            cv2.imshow('Cartoonize', cartoonize_image(frame, ksize=5, sketch_mode=True))\n",
    "        elif cur_mode == ord('c'):\n",
    "            cv2.imshow('Cartoonize', cartoonize_image(frame, ksize=5, sketch_mode=False))\n",
    "        else:\n",
    "            cv2.imshow('Cartoonize', frame)\n",
    "    cap.release()\n",
    "    cv2.destroyAllWindows()"
   ]
  },
  {
   "cell_type": "markdown",
   "metadata": {},
   "source": [
    "### Deconstructing the code"
   ]
  },
  {
   "cell_type": "markdown",
   "metadata": {},
   "source": [
    "- Khi bạn chạy chương trình trên, bạn sẽ thấy một cửa sổ với luồng video từ webcam.\n",
    "- Nếu bạn nhấn `\"S\"`, luồng video sẽ chuyển sang chế độ phác thảo và bạn sẽ thấy nó phác thảo giống như **bút chì**. \n",
    "- Nếu bạn nhấn `\"C\"`, bạn sẽ thấy phiên bản **hoạt hình màu** của đầu vào. Nếu bạn nhấn bất kỳ phím nào khác, nó sẽ trở về chế độ bình thường."
   ]
  },
  {
   "cell_type": "markdown",
   "metadata": {},
   "source": [
    "- Chúng ta hãy nhìn vào chức năng hoạt hình và xem chúng ta đã làm như thế nào.\n",
    "- Đầu tiên, chúng ta đã **chuyển đổi hình ảnh** thành **hình ảnh thang độ xám** và chạy nó **qua bộ lọc trung bình**.\n",
    "- **Bộ lọc trung bình** rất tốt cho việc loại bỏ nhiễu của trắng-đen. Đây là loại nhiễu mà bạn thấy bị cô lập pixel đen hoặc trắng trong ảnh. \n",
    "- Trong wedcam và máy ảnh di động rất phổ biến, vì vậy chúng ta cần phải lọc nó ra trước khi chúng ta tiến hành thêm. \n",
    "- **Thuật toán muối tiêu.**\n",
    "- Để đưa ra một ví dụ, hãy xem các điều sau đây hình ảnh:"
   ]
  },
  {
   "cell_type": "markdown",
   "metadata": {},
   "source": [
    "![Muối tiêu](images\\muoitieu.png)"
   ]
  },
  {
   "cell_type": "markdown",
   "metadata": {},
   "source": [
    "- Như chúng ta thấy trong hình ảnh đầu vào, có rất nhiều pixel màu xanh lá cây bị cô lập. Nó đang hạ thấp chất lượng của hình ảnh và chúng ta cần phải loại bỏ chúng. \n",
    "- Đây là nơi bộ lọc trung vị rất hữu dụng. Chúng ta chỉ nhìn vào vùng lân cận NxN xung quanh từng pixel và chọn trung vị giá trị của những con số đó. Vì các pixel bị cô lập, trong trường hợp này, có giá trị cao, lấy giá trị trung bình sẽ thoát khỏi các giá trị này và cũng làm mịn hình ảnh. \n",
    "- Như bạn có thể thấy trong hình ảnh đầu ra, bộ lọc trung bình đã loại bỏ tất cả các pixel bị cô lập đó và hình ảnh trông dọn dẹp. Sau đây là mã cho việc này:"
   ]
  },
  {
   "cell_type": "code",
   "execution_count": 12,
   "metadata": {},
   "outputs": [],
   "source": [
    "import cv2\n",
    "import numpy as np\n",
    "img = cv2.imread('images\\muoitieu.png')\n",
    "output = cv2.medianBlur(img, ksize=7)\n",
    "cv2.imshow('Input', img)\n",
    "cv2.imshow('Median filter', output)\n",
    "cv2.waitKey()\n",
    "cv2.destroyAllWindows()"
   ]
  },
  {
   "cell_type": "markdown",
   "metadata": {},
   "source": [
    "- Code này khá đơn giản. Chúng ta chỉ sử dụng hàm **medianBlur** để áp dụng **bộ lọc trung bình(median filter)** cho hình ảnh đầu vào. Đối số thứ hai trong hàm này chỉ định kích thước của kernel chúng ta đang sử dụng. Kích thước của kernel có liên quan đến kích thước lân cận. \n",
    "- Chúng ta có thể thử nhiều giá trị với tham số này và xem nó ảnh hưởng đến đầu ra; hãy nhớ rằng, các giá trị có thể chỉ là các số lẻ: $1, 3, 5, 7, v.v.$"
   ]
  },
  {
   "cell_type": "markdown",
   "metadata": {},
   "source": [
    "- Quay trở lại với **Cartoonize_image**, chúng ta tiến hành detect các đường nét trên ảnh xám. Chúng ta cần biết các đường nét ở đâu ở đâu để có thể tạo hiệu ứng đường bút chì.\n",
    "- Khi chúng ta phát hiện các đường nét, chúng ta đan dệch chúng để mọi thứ trở thành đen và trắng, cả hai nghĩa đen và nghĩa bóng!"
   ]
  },
  {
   "cell_type": "markdown",
   "metadata": {},
   "source": [
    "- Trong bước tiếp theo, chúng ta kiểm tra xem chế độ phác thảo có được bật hay không. Nếu có, thì chúng ta chỉ cần chuyển đổi nó thành một hình ảnh màu và trả lại nó."
   ]
  },
  {
   "cell_type": "markdown",
   "metadata": {},
   "source": [
    "![cartoonized image](images\\cartoonizeimage2.png)"
   ]
  },
  {
   "cell_type": "markdown",
   "metadata": {},
   "source": [
    "- Như bạn có thể thấy, các đường nét dày hơn trước. Để đạt được điều này, thay thế khối đoan code **if** với đoạn code sau:"
   ]
  },
  {
   "cell_type": "code",
   "execution_count": 13,
   "metadata": {},
   "outputs": [
    {
     "name": "stdout",
     "output_type": "stream",
     "text": [
      " Change cartoonizing mode of image:\n",
      "        1. Cartoonize without Color - press 's'\n",
      "        2. Cartoonize with Color - press 'c'\n",
      "        \n"
     ]
    }
   ],
   "source": [
    "import cv2\n",
    "import numpy as np\n",
    "\n",
    "def print_howto():\n",
    "    print(\"\"\" Change cartoonizing mode of image:\n",
    "        1. Cartoonize without Color - press 's'\n",
    "        2. Cartoonize with Color - press 'c'\n",
    "        \"\"\")\n",
    "\n",
    "def cartoonize_image(img, ksize=5, sketch_mode=False):\n",
    "    num_repetitions, sigma_color, sigma_space, ds_factor = 10, 5, 7, 4\n",
    "    # Convert image to grayscale\n",
    "    img_gray = cv2.cvtColor(img, cv2.COLOR_BGR2GRAY)\n",
    "    \n",
    "    # Apply median filter to the grayscale image\n",
    "    img_gray = cv2.medianBlur(img_gray, 7)\n",
    "    \n",
    "    # Detect edges in the image and threshold it\n",
    "    edges = cv2.Laplacian(img_gray, cv2.CV_8U, ksize=ksize)\n",
    "    ret, mask = cv2.threshold(edges, 100, 255, cv2.THRESH_BINARY_INV)\n",
    "    \n",
    "    # 'mask' is the sketch of the image\n",
    "    if sketch_mode:\n",
    "        img_sketch = cv2.cvtColor(mask, cv2.COLOR_GRAY2BGR)\n",
    "        kernel = np.ones((3,3), np.uint8)\n",
    "        img_eroded = cv2.erode(img_sketch, kernel, iterations=1)\n",
    "        return cv2.medianBlur(img_eroded, ksize=5)\n",
    "    \n",
    "    # Resize the image to a smaller size for faster computation\n",
    "    img_small = cv2.resize(img, None, fx=1.0/ds_factor, fy=1.0/ds_factor, interpolation=cv2.INTER_AREA)\n",
    "    \n",
    "    # Apply bilateral filter the image multiple times\n",
    "    for i in range(num_repetitions):\n",
    "        img_small = cv2.bilateralFilter(img_small, ksize, sigma_color, sigma_space)\n",
    "        \n",
    "    img_output = cv2.resize(img_small, None, fx=ds_factor, fy=ds_factor, interpolation=cv2.INTER_LINEAR)\n",
    "    dst = np.zeros(img_gray.shape)\n",
    "    \n",
    "    # Add the thick boundary lines to the image using 'AND' operator\n",
    "    dst = cv2.bitwise_and(img_output, img_output, mask=mask)\n",
    "    return dst\n",
    "\n",
    "if __name__=='__main__':\n",
    "    print_howto()\n",
    "    cap = cv2.VideoCapture(0)\n",
    "    cur_mode = None\n",
    "    while True:\n",
    "        ret, frame = cap.read()\n",
    "        frame = cv2.resize(frame, None, fx=1, fy=1, interpolation=cv2.INTER_AREA)\n",
    "        c = cv2.waitKey(1)\n",
    "        if c == 27:\n",
    "            break\n",
    "        if c != -1 and c != 255 and c != cur_mode:\n",
    "            cur_mode = c\n",
    "        if cur_mode == ord('s'):\n",
    "            cv2.imshow('Cartoonize', cartoonize_image(frame, ksize=5, sketch_mode=True))\n",
    "        elif cur_mode == ord('c'):\n",
    "            cv2.imshow('Cartoonize', cartoonize_image(frame, ksize=5, sketch_mode=False))\n",
    "        else:\n",
    "            cv2.imshow('Cartoonize', frame)\n",
    "    \n",
    "    cap.release()\n",
    "    cv2.destroyAllWindows()"
   ]
  },
  {
   "cell_type": "markdown",
   "metadata": {},
   "source": [
    "- Ở đây, chúng ta sử dụng hàm **erode**  với kernel 3x3.\n",
    "- Bây giờ, bạn sẽ có một câu hỏi tự phát: \"Nếu chúng ta muốn tăng độ dày của một cái gì đó, chúng ta có nên sử dụng sự giãn nở không ?\" Oke, lý do này là đúng, nhưng có một thay đổi nhỏ ở đây. \n",
    "- Lưu ý rằng **tiền cảnh** là **màu đen** và **màu nền** là **màu trắng**. Xói mòn (Erosion) và giãn nở (dilation) coi các pixel trắng là tiền cảnh và đen pixel làm nền. Vì vậy, nếu chúng ta muốn tăng độ dày của nền trước màu đen, chúng ta cần sử dụng **xói mòn (erosion)**. \n",
    "- Sau khi chúng ta **áp dụng xói mòn (erosion)**, chúng ta chỉ cần **sử dụng bộ lọc trung bình** để **loại bỏ nhiễu** và có được **kết quả cuối cùng**."
   ]
  },
  {
   "cell_type": "markdown",
   "metadata": {},
   "source": [
    "- Trong bước tiếp theo, chúng ta sử dụng **bộ lọc song phương (bilateral filtering)** để làm mịn hình ảnh. \n",
    "- **Lọc song phương (bilateral filtering)** là một khái niệm thú vị và **hiệu suất của nó tốt hơn** nhiều so với **bộ lọc Gaussian**. \n",
    "- **Ưu điểm** của lọc song phương là nó bảo toàn các cạnh, trong khi bộ lọc Gaussian làm mịn mọi thứ như nhau. Để so sánh và đối chiếu, chúng ta hãy nhìn vào những điều sau đây hình ảnh đầu vào:"
   ]
  },
  {
   "cell_type": "markdown",
   "metadata": {},
   "source": [
    "- Ảnh gốc:"
   ]
  },
  {
   "cell_type": "markdown",
   "metadata": {},
   "source": [
    "![Orginal image](images\\Gausian.png)"
   ]
  },
  {
   "cell_type": "markdown",
   "metadata": {},
   "source": [
    "- Ảnh qua bộ lọc Gaussian:"
   ]
  },
  {
   "cell_type": "markdown",
   "metadata": {},
   "source": [
    "![Gaussian image](images\\Gausian2.png)"
   ]
  },
  {
   "cell_type": "markdown",
   "metadata": {},
   "source": [
    "- Ảnh qua bộ lọc song phương:"
   ]
  },
  {
   "cell_type": "markdown",
   "metadata": {},
   "source": [
    "![Gaussian image](images\\Gausian3.png)"
   ]
  },
  {
   "cell_type": "markdown",
   "metadata": {},
   "source": [
    "- Như bạn có thể thấy, chất lượng sẽ tốt hơn nếu chúng ta sử dụng bộ lọc song phương. Hình ảnh trông mượt mà và các cạnh trông đẹp và sắc nét !"
   ]
  },
  {
   "cell_type": "code",
   "execution_count": 14,
   "metadata": {},
   "outputs": [],
   "source": [
    "import cv2\n",
    "import numpy as np\n",
    "\n",
    "img = cv2.imread('input\\maze.png', cv2.COLOR_BGR2GRAY )\n",
    "img_gaussian = cv2.GaussianBlur(img, (13,13), 0) # Gaussian Kernel Size 13x13\n",
    "img_bilateral = cv2.bilateralFilter(img, 13, 70, 50)\n",
    "\n",
    "cv2.imshow('Input', img)\n",
    "cv2.imshow('output\\Gaussian filter', img_gaussian)\n",
    "cv2.imwrite('output\\Gaussian.png', img_gaussian)\n",
    "cv2.imshow('output\\Bilateral filter', img_bilateral)\n",
    "cv2.imwrite('output\\Bilateral.png', img_bilateral)\n",
    "cv2.waitKey()\n",
    "cv2.destroyAllWindows()"
   ]
  },
  {
   "cell_type": "markdown",
   "metadata": {},
   "source": [
    "- Nếu bạn quan sát chi tiết hai ảnh đầu ra (tương ứng với qua bộ lọc Gaussian và bộ lọc song phương), bạn có thể thấy rằng các đường nét sau khi qua bộ lọc Gaussian được làm **mờ đi**.\n",
    "- Thông thường, chúng ta chỉ muốn **làm mịn** các **vùng thô** trong ảnh và giữ các cạnh nguyên vẹn. Vì vậy, bộ lọc song phương trong ngữ ảnh này thì có ích. \n",
    "- Bộ lọc Gaussian chỉ cần nhìn vào vùng lân cận ngay lập tức và tính trung bình các giá trị pixel bằng kernel Gaussian, được áp dụng bởi phương pháp **GaussianBlur**. \n",
    "- Bộ lọc song phương áp dụng khái niệm này vào next level bằng cách chỉ **lấy trung bình các pixel tương tự nhau mà có cùng cường độ**. Nó cũng **lấy số liệu màu của vùng lân cận** để xem liệu nó **có thể thay thế pixel hiện tại mà giống về giá trị cường độ hay không**."
   ]
  },
  {
   "cell_type": "code",
   "execution_count": 16,
   "metadata": {},
   "outputs": [],
   "source": [
    "import cv2\n",
    "import numpy as np\n",
    "\n",
    "img = cv2.imread('input\\maze.png', )\n",
    "img_gaussian = cv2.GaussianBlur(img, (13,13), 0) # Gaussian Kernel Size 13x13\n",
    "img_bilateral = cv2.bilateralFilter(img, 13, 70, 50)\n",
    "\n",
    "cv2.imshow('Input', img)\n",
    "cv2.imshow('Gaussian filter', img_gaussian)\n",
    "cv2.imwrite('output\\Gaussian.png', img_gaussian)\n",
    "cv2.imshow('Bilateral filter', img_bilateral)\n",
    "cv2.imwrite('output\\Bilateral.png', img_bilateral)\n",
    "cv2.waitKey()\n",
    "cv2.destroyAllWindows()"
   ]
  },
  {
   "cell_type": "markdown",
   "metadata": {},
   "source": [
    "- Hai đối số cuối cùng ở đây chỉ định không gian và màu lân cận .\n",
    "- Đây là lý do các đường nét trông sắc nét trong đầu ra của bộ lọc song phương.\n",
    "- Chúng ta chạy bộ lọc này nhiều lần trên hình ảnh để làm mịn nó ra, để làm cho nó trông giống như một phim hoạt hình. \n",
    "- Sau đó, chồng một cái **mask** lên giống như bút chì trên đầu của hình ảnh màu này để tạo hiệu ứng giống như phim hoạt hình."
   ]
  },
  {
   "cell_type": "markdown",
   "metadata": {},
   "source": [
    "## Kết luận"
   ]
  },
  {
   "cell_type": "markdown",
   "metadata": {},
   "source": [
    "- Trong chương này, chúng ta đã học cách truy cập webcam. \n",
    "- Chúng ta đã thảo luận làm thế nào để lấy đầu vào bàn phím và chuột trong các luồng video trực tiếp. \n",
    "- Chúng ta đã sử dụng kiến thức này để tạo ra một ứng dụng tương tác. \n",
    "- Chúng ta đã thảo luận về các bộ lọc trung bình và song phương, và nói về lợi thế của bộ lọc song phương so với bộ lọc Gaussian.\n",
    "- Chúng tôi đã sử dụng tất cả các nguyên tắc này để chuyển đổi hình ảnh đầu vào thành một hình ảnh giống như phác họa, và sau đó hoạt hình hóa nó. \n",
    "- **Trong chương tiếp theo, chúng ta cũng sẽ tìm hiểu cách phát hiện các bộ phận cơ thể khác nhau trong hình ảnh tĩnh như trong video trực tiếp.**"
   ]
  }
 ],
 "metadata": {
  "kernelspec": {
   "display_name": "Python 3",
   "language": "python",
   "name": "python3"
  },
  "language_info": {
   "codemirror_mode": {
    "name": "ipython",
    "version": 3
   },
   "file_extension": ".py",
   "mimetype": "text/x-python",
   "name": "python",
   "nbconvert_exporter": "python",
   "pygments_lexer": "ipython3",
   "version": "3.7.5"
  }
 },
 "nbformat": 4,
 "nbformat_minor": 2
}
