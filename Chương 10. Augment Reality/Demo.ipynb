{
 "cells": [
  {
   "cell_type": "markdown",
   "metadata": {},
   "source": [
    "## Using Augmentor to generate the augmented images forr dataset"
   ]
  },
  {
   "cell_type": "markdown",
   "metadata": {},
   "source": [
    "### Ảnh ban đầu"
   ]
  },
  {
   "cell_type": "markdown",
   "metadata": {},
   "source": [
    "- Đường dẫn(Path): `D:\\google-drive\\Computer Vision\\OpenCV\\Chương 10. Thực tế tăng cường\\nusinh.png`\n",
    "- Kích thước(Size): $640 \\times 640 \\times 3$.\n",
    "- Định dạng(format): `png`\n",
    "![Nữ sinh](nusinh.png)"
   ]
  },
  {
   "cell_type": "code",
   "execution_count": null,
   "metadata": {},
   "outputs": [],
   "source": [
    "import cv2\n",
    "myimage = cv2.imread(\"nusinh.png\")\n",
    "print(myimage.shape)\n",
    "cv2.imshow('Hot Girl',myimage)\n",
    "cv2.waitKey(0)\n",
    "cv2.destroyAllWindows()"
   ]
  },
  {
   "cell_type": "markdown",
   "metadata": {},
   "source": [
    "### Resize ảnh về kích thước $256 \\times 256 \\times 3$"
   ]
  },
  {
   "cell_type": "code",
   "execution_count": null,
   "metadata": {},
   "outputs": [],
   "source": [
    "cv2.resize(myimage,(256,256), interpolation = cv2.INTER_AREA)\n",
    "img_scaled = cv2.resize(myimage,(450, 400), interpolation = cv2.INTER_AREA)\n",
    "cv2.imshow('Scaled Image', img_scaled)\n",
    "print(img_scaled.shape)\n",
    "cv2.imwrite('images\\hotgirl.png', img_scaled)\n",
    "cv2.waitKey(0)\n",
    "cv2.destroyAllWindows()"
   ]
  },
  {
   "cell_type": "markdown",
   "metadata": {},
   "source": [
    "### Tiến hành tạo ra một bộ dữ liệu tăng cường cho ảnh `hotgirl`"
   ]
  },
  {
   "cell_type": "code",
   "execution_count": null,
   "metadata": {},
   "outputs": [],
   "source": [
    "import Augmentor\n",
    "path = \"input\"\n",
    "p = Augmentor.Pipeline(path, output_directory=\"Đường dẫn(Path): D:\\google-drive\\Computer Vision\\OpenCV\\Chương 10. Thực tế tăng cường\\output\")"
   ]
  },
  {
   "cell_type": "code",
   "execution_count": null,
   "metadata": {},
   "outputs": [],
   "source": [
    "p.rotate90(probability=0.5)\n",
    "\n",
    "p.rotate270(probability=0.5)\n",
    "\n",
    "p.flip_left_right(probability=0.75)\n",
    "\n",
    "p.flip_top_bottom(probability=0.5)\n",
    "\n",
    "p.crop_random(probability=0.5, percentage_area=0.5)\n",
    "\n",
    "p.resize(probability=1.0, width=256, height=256)\n",
    "\n",
    "p.sample(100)"
   ]
  },
  {
   "cell_type": "code",
   "execution_count": null,
   "metadata": {},
   "outputs": [],
   "source": []
  }
 ],
 "metadata": {
  "kernelspec": {
   "display_name": "Python 3",
   "language": "python",
   "name": "python3"
  },
  "language_info": {
   "codemirror_mode": {
    "name": "ipython",
    "version": 3
   },
   "file_extension": ".py",
   "mimetype": "text/x-python",
   "name": "python",
   "nbconvert_exporter": "python",
   "pygments_lexer": "ipython3",
   "version": "3.7.5"
  }
 },
 "nbformat": 4,
 "nbformat_minor": 2
}
