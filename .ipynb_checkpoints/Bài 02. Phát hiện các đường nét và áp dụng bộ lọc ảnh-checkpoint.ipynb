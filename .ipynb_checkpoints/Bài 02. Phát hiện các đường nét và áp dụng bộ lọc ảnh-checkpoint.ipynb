{
 "cells": [
  {
   "cell_type": "markdown",
   "metadata": {},
   "source": [
    "# Chương 02. Phát hiện các đường nét và áp dụng bộ lọc ảnh"
   ]
  },
  {
   "cell_type": "markdown",
   "metadata": {},
   "source": [
    "- Trong chương này, chúng ta sẽ xem cách áp dụng các hiệu ứng hình ảnh thú vị cho hình ảnh.\n",
    "- Chúng ta sẽ học cách sử dụng các toán tử xử lý ảnh cơ bản, thảo luận về phát hiện cạnh và xem cách chúng ta có thể sử dụng các bộ lọc hình ảnh để áp dụng các hiệu ứng khác nhau cho ảnh."
   ]
  },
  {
   "cell_type": "markdown",
   "metadata": {},
   "source": [
    "- Qua phần này, ta sẽ biết:\n",
    "    - Tích chập 2D là gì và cách sử dụng nó\n",
    "    - Cách làm mờ hình ảnh\n",
    "    - Cách phát hiện các cạnh trong ảnh\n",
    "    - Cách áp dụng hiệu ứng nhòe chuyển động cho hình ảnh\n",
    "    - Làm thế nào để làm sắc nét và chạm nổi một hình ảnh\n",
    "    - Làm thế nào để ăn mòn và làm giãn một hình ảnh\n",
    "    - Cách tạo bộ lọc họa tiết\n",
    "    - Cách tăng cường độ tương phản hình ảnh"
   ]
  },
  {
   "cell_type": "markdown",
   "metadata": {},
   "source": [
    "##  Nội dung:\n",
    "1. 2D Convolution - Phép tích chập 2 chiều.\n",
    "2. Blurring.\n",
    "3. Motion blur.\n",
    "4. Sharpening.\n",
    "5. Embossing.\n",
    "6. Edge detection.\n",
    "7. Erosion and dilation.\n",
    "8. Creating a vignette filter.\n",
    "9. Enhance the contrast in an image.\n",
    "---"
   ]
  },
  {
   "cell_type": "markdown",
   "metadata": {},
   "source": [
    "## 1. 2D Convolution - Phép tích chập 2 chiều"
   ]
  },
  {
   "cell_type": "markdown",
   "metadata": {},
   "source": [
    "**`Convolution(Tích chập)` là một khái niệm trong xử lý tín hiệu số nhằm biến đổi thông tin đầu vào thông qua một phép tích chập với bộ lọc để trả về đầu ra là một tín hiệu mới**. Tín hiệu này sẽ làm giảm những đặc trưng mà bộ lọc không quan tâm và chỉ giữ những đặc trưng chính. \n",
    "\n",
    "Tích chập thông dụng nhất là tích chập 2 chiều được áp dụng trên ma trận đầu vào và ma trận bộ lọc 2 chiều. Phép tích chập của một ma trận $\\mathbf{X} \\in \\mathbb{R}^{W_1 \\times H_1}$ với một *bộ lọc* (receptive field) $\\mathbf{F} \\in \\mathbb{R}^{F \\times F}$ là một ma trận $\\mathbf{Y} \\in \\mathbb{R}^{W_2 \\times H_2}$ sẽ trả qua những bước sau:\n",
    "\n",
    "* Tính tích chập tại 1 điểm:\n",
    "Tại vị trí đầu tiên trên cùng của ma trận đầu vào ta sẽ lọc ra một ma trận con $\\mathbf{X}_{sub} \\in \\mathbb{R}^{F \\times F}$ có kích thước bằng với kích thước của bộ lọc. Giá trị $y_{11}$ tương ứng trên $\\mathbf{Y}$ là tích chập của $\\mathbf{X}_{sub}$ với $\\mathbf{F}$ được tính như sau:\n",
    "$$y_{11}= \\sum_{i = 1}^{F}  \\sum_{j = 1}^{F} x_{ij} f_{ij}$$ \n",
    "* Tiến hành trượt dọc theo ma trận theo chiều từ trái qua phải, từ trên xuống dưới theo *bước nhảy* (stride) $S$ ta sẽ tính được các giá trị $y_{ij}$ tiếp theo. Sau khi quá trình này kết thúc ta thu được trọn vẹn ma trận $\\mathbf{Y}$.\n"
   ]
  },
  {
   "cell_type": "markdown",
   "metadata": {},
   "source": [
    "Xét quá trình trượt trên chiều $W_1$ của ma trận đầu vào. \n",
    "\n",
    "![](https://scontent.fsgn1-1.fna.fbcdn.net/v/t1.15752-9/71484817_748528048916000_5442516178771640320_n.png?_nc_cat=102&_nc_eui2=AeF9wXAIBHn0j8Ull8vCGmlUzPtRKFPbO5QLiZ9qmrQJC8IZyvq4nD9aO6xlZpXrkzZzbvMa2ZJIh9RsX8lQ4S6MZWTq8ObRTpTrP0zCoYPNFg&_nc_oc=AQn3WCQjHHukmLlGzPmssgc1UtgX9XaPjj81eQGnmrQ-ThKhqtRAPgnEsoUHthPm_Y0&_nc_ht=scontent.fsgn1-1.fna&oh=6fb5246981d9ceb4a2967c3051d2fda3&oe=5E2330F3)\n",
    "\n",
    "$$\\text{Quá trình trượt theo chiều rộng (W1)}$$\n",
    "\n",
    "Giả sử quá trình này sẽ dừng sau $W_2$ bước. Tại bước đầu tiên quá trình đi được đến vị trí thứ $F$. Sau mỗi bước liền sau sẽ tăng so với vị trí liền trước là $S$. Như vậy đến bước thứ $i$ quá trình trượt sẽ đi đến vị trí $F+(i-1)S$. Suy ra tại bước cuối cùng $W_2$ ma trận sẽ đi đến vị trí $F+(W_2-1)S$. Đây là vị trí lớn nhất gần với vị trí cuối cùng là $W_1$. Trong trường hợp lý tưởng thì $F+(W_2-1)S = W_1$. Từ đó ta suy ra:\n",
    "$$W_2 = \\frac{W_1-F}{S}+1 \\tag{1}$$\n",
    "Khi vị trí cuối cùng không trùng với $W_1$ thì số bước $W_2$ sẽ được lấy phần nguyên:\n",
    "$$W_2 = [\\frac{W_1-F}{S}]+1$$\n"
   ]
  },
  {
   "cell_type": "markdown",
   "metadata": {},
   "source": [
    "- Ở đây, ma trận $F$ được gọi là **kernel** hay là **bộ lọc ảnh (filter)** và quá trình áp dụng kernel này vào hình ảnh đã cho được gọi là **lọc hình ảnh (filtering)**. \n",
    "- Đầu ra thu được sau khi áp dụng kernel cho hình ảnh được gọi là **hình ảnh được lọc (filtered image)**. Tùy thuộc vào các giá trị trong kernel, nó thực hiện các chức năng khác nhau như làm mờ, phát hiện các cạnh, v.v. Hình dưới đây nên giúp bạn hình dung hoạt động lọc ảnh:"
   ]
  },
  {
   "cell_type": "markdown",
   "metadata": {},
   "source": [
    "![Convolutional 2D](images/bai02/images/convolution.png)"
   ]
  },
  {
   "cell_type": "markdown",
   "metadata": {},
   "source": [
    "- Hãy bắt đầu với trường hợp đơn giản nhất, đó là kernel nhận dạng. Kernel này không thực sự thay đổi hình ảnh đầu vào. Nếu chúng ta xem xét một kernel nhận dạng 3x3, nó trông giống như sau:"
   ]
  },
  {
   "cell_type": "markdown",
   "metadata": {},
   "source": [
    "### $$\n",
    "I =\n",
    "  \\left[ {\\begin{array}{cc}\n",
    "   0 & 0 & 0\\\\\n",
    "   0 & 1 & 0\\\\\n",
    "   0 & 0 & 0\\\\\n",
    "  \\end{array} } \\right]$$"
   ]
  },
  {
   "cell_type": "markdown",
   "metadata": {},
   "source": [
    "## 2. Blurring (Làm mờ)"
   ]
  },
  {
   "cell_type": "markdown",
   "metadata": {},
   "source": [
    "- **Làm mờ (blurring)** nghĩa là tính trung bình các giá trị pixel trong vùng lân cận. Điều này cũng được gọi là một **low pass filter**.\n",
    "- **Bộ lọc thông thấp (low pass filter)** là bộ lọc cho phép tần số thấp và chặn cao hơn tần số. \n",
    "### Bây giờ, câu hỏi tiếp theo xuất hiện trong đầu chúng ta là: **tần số** có nghĩa là gì trong một hình ảnh? \n",
    "\n",
    "- Trong ngữ cảnh này, **tần số đề cập đến tốc độ thay đổi của các giá trị pixel**. Vì thế chúng ta có thể nói rằng các cạnh sắc nét sẽ là nội dung tần số cao vì các giá trị pixel thay đổi nhanh chóng trong khu vực đó. Theo logic đó, các khu vực đồng bằng sẽ có tần số thấp. \n",
    "- Theo định nghĩa này, một `low pass filter` sẽ cố gắng **làm mịn các cạnh**."
   ]
  },
  {
   "cell_type": "markdown",
   "metadata": {},
   "source": [
    "- **Một cách đơn giản để xây dựng low pass filter** là bằng cách **lấy trung bình đồng nhất các giá trị trong vùng lân cận của pixel**. \n",
    "- Chúng ta có thể chọn kích thước của kernel tùy thuộc vào mức độ chúng ta muốn làm mịn hình ảnh và nó sẽ có các hiệu ứng khác nhau. \n",
    "- Nếu bạn chọn **kích thước lớn hơn**, thì bạn sẽ lấy **trung bình trên một diện tích lớn hơn**. **Điều này có xu hướng làm tăng hiệu ứng làm mịn**. Hãy xem kernel bộ lọc thông thấp 3x3 trông như thế nào:\n",
    "### $$ \n",
    "L=\n",
    "  \\frac{1}{9} \\left[ {\\begin{array}{cc}\n",
    "   1 & 1 & 1\\\\\n",
    "   1 & 1 & 1\\\\\n",
    "   1 & 1 & 1\\\\\n",
    "  \\end{array} } \\right]$$"
   ]
  },
  {
   "cell_type": "markdown",
   "metadata": {},
   "source": [
    "- Chúng ta **chia ma trận cho 9** vì chúng ta muốn các giá trị tổng hợp thành một. Cái này được gọi là **normalizaion** và điều đó quan trọng bởi vì **chúng ta không muốn tăng cường độ (indensity)** tại vị trí của pixel đó.\n",
    "- Vì vậy, bạn **nên normalize kernel** trước khi áp dụng nó vào hình ảnh. \n",
    "- **Normalizaion** là một khái niệm thực sự quan trọng và nó được sử dụng trong nhiều tình huống khác nhau, vì vậy bạn nên đọc một vài hướng dẫn trực tuyến để hiểu rõ về nó."
   ]
  },
  {
   "cell_type": "markdown",
   "metadata": {},
   "source": [
    "- Đây là đoạn code để áp dụng **low pass filter** này cho hình ảnh:"
   ]
  },
  {
   "cell_type": "code",
   "execution_count": 23,
   "metadata": {},
   "outputs": [],
   "source": [
    "import cv2\n",
    "import numpy as np\n",
    "img = cv2.imread('images/bai02/input/input.png')\n",
    "rows, cols = img.shape[:2]\n",
    "kernel_identity = np.array([[0,0,0], [0,1,0], [0,0,0]])\n",
    "kernel_3x3 = np.ones((3,3), np.float32) / 9.0 # Divide by 9 to normalize the kernel\n",
    "kernel_5x5 = np.ones((5,5), np.float32) / 25.0 # Divide by 25 to normalize the kernel\n",
    "cv2.imshow('Original', img)\n",
    "output = cv2.filter2D(img, -1, kernel_identity)\n",
    "cv2.imshow('Identity filter', output)\n",
    "output = cv2.filter2D(img, -1, kernel_3x3)\n",
    "cv2.imshow('3x3 filter', output)\n",
    "output = cv2.filter2D(img, -1, kernel_5x5)\n",
    "cv2.imshow('5x5 filter', output)\n",
    "cv2.waitKey(0)\n",
    "cv2.destroyAllWindows()"
   ]
  },
  {
   "cell_type": "markdown",
   "metadata": {},
   "source": [
    "### Kích thước của kernel so với độ mờ."
   ]
  },
  {
   "cell_type": "markdown",
   "metadata": {},
   "source": [
    "- Trong đoạn code trên, chúng ta đã tạo các kernel khác nhau, đó là **kernel_identity**, **kernel_3x3** và **kernel_5x5**.\n",
    "- Chúng ta sử dụng hàm **filter2D**, để áp dụng các **kernel** này cho hình ảnh đầu vào.\n",
    "- **Nếu bạn nhìn vào những hình ảnh kĩ một tí, bạn có thể thấy rằng chúng tiếp tục bị mờ khi chúng ta tăng kích thước kernel. Lý do cho điều này là vì khi chúng ta tăng kích thước kernel, chúng ta đang tính trung bình trên một diện tích lớn hơn. Điều này dẫn đến việc hiệu ứng làm mờ càng mạnh hơn.**"
   ]
  },
  {
   "cell_type": "markdown",
   "metadata": {},
   "source": [
    "- Một cách khác để làm điều này sẽ là bằng cách sử dụng hàm trong OpenCV, `blur`. \n",
    "- Nếu bạn không muốn tự tạo kernel, bạn chỉ có thể sử dụng hàm này trực tiếp. Chúng ta có thể gọi nó bằng dòng lệnh sau:"
   ]
  },
  {
   "cell_type": "code",
   "execution_count": 24,
   "metadata": {},
   "outputs": [],
   "source": [
    "output = cv2.blur(img, (3,3))"
   ]
  },
  {
   "cell_type": "markdown",
   "metadata": {},
   "source": [
    "- Dòng code này sẽ áp dụng kernel 3x3 cho đầu vào và cung cấp cho bạn đầu ra trực tiếp."
   ]
  },
  {
   "cell_type": "code",
   "execution_count": 25,
   "metadata": {},
   "outputs": [],
   "source": [
    "import cv2\n",
    "import numpy as np\n",
    "img = cv2.imread('images/bai02/input/input.png')\n",
    "rows, cols = img.shape[:2]\n",
    "cv2.imshow('Original', img)\n",
    "output = cv2.blur(img, (1,1))\n",
    "cv2.imshow('Identity filter', output)\n",
    "output = cv2.blur(img, (3,3))\n",
    "cv2.imshow('3x3 filter', output)\n",
    "output = cv2.blur(img, (5,5))\n",
    "cv2.imshow('5x5 filter', output)\n",
    "cv2.waitKey(0)\n",
    "cv2.destroyAllWindows()"
   ]
  },
  {
   "cell_type": "markdown",
   "metadata": {},
   "source": [
    "## 3. Motion blur (Chuyển động mờ)"
   ]
  },
  {
   "cell_type": "markdown",
   "metadata": {},
   "source": [
    "- Khi chúng ta áp dụng hiệu ứng làm mờ chuyển động (Motion blur) , nó sẽ trông giống như bạn chụp ảnh trong khi di chuyển theo một hướng cụ thể. \n",
    "- Ví dụ: bạn có thể làm cho hình ảnh trông giống như nó chụp từ một chiếc xe đang di chuyển.\n",
    "\n",
    "![Motion blur](images/bai02/images/motionblur.png)"
   ]
  },
  {
   "cell_type": "markdown",
   "metadata": {},
   "source": [
    "- Đoạn code dưới đây cho phép phép làm mờ chuyển động (Motion blur):"
   ]
  },
  {
   "cell_type": "code",
   "execution_count": 27,
   "metadata": {},
   "outputs": [],
   "source": [
    "import cv2\n",
    "import numpy as np\n",
    "img = cv2.imread('images/bai02/input/input.png')\n",
    "cv2.imshow('Original', img)\n",
    "size = 15\n",
    "# generating the kernel\n",
    "kernel_motion_blur = np.zeros((size, size))\n",
    "# Đặt hàng chính giữa của ma trận kernel toàn là giá trị 1\n",
    "kernel_motion_blur[int((size-1)/2), :] = np.ones(size)\n",
    "kernel_motion_blur = kernel_motion_blur / size\n",
    "# applying the kernel to the input image\n",
    "output = cv2.filter2D(img, -1, kernel_motion_blur)\n",
    "cv2.imshow('Motion Blur', output)\n",
    "cv2.waitKey(0)\n",
    "cv2.destroyAllWindows()"
   ]
  },
  {
   "cell_type": "markdown",
   "metadata": {},
   "source": [
    "### Nó thực hiện như thế nào ?"
   ]
  },
  {
   "cell_type": "markdown",
   "metadata": {},
   "source": [
    "- Chúng ta đọc ảnh vào chương trình như bình thường sau đó xây dựng một kernel mờ chuyển động. \n",
    "- Một kernel chuyển động làm mờ trung bình các giá trị pixel theo một hướng cụ thể. Nó giống như một **định hướng bộ lọc thông thấp (directional low pass filter)**. Một kernel làm mờ chuyển động ngang 3x3 sẽ trông như thế này:"
   ]
  },
  {
   "cell_type": "markdown",
   "metadata": {},
   "source": [
    "### $$ \n",
    "L=\n",
    "  \\left[ {\\begin{array}{cc}\n",
    "   0 & 0 & 0\\\\\n",
    "   1 & 1 & 1\\\\\n",
    "   0 & 0 & 0\\\\\n",
    "  \\end{array} } \\right]$$"
   ]
  },
  {
   "cell_type": "markdown",
   "metadata": {},
   "source": [
    "- Điều này sẽ **làm mờ hình ảnh theo chiều ngang**. \n",
    "- Bạn có thể **chọn bất kỳ hướng nào** và nó sẽ làm việc phù hợp. Số lượng mờ sẽ phụ thuộc vào kích thước của kernel. Vì vậy, nếu bạn muốn làm mờ hình ảnh, chỉ cần chọn kích thước lớn hơn cho kernel. \n",
    "- Để xem hiệu ứng đầy đủ, chúng ta đã lấy một kernel 15x15 trong đoạn code trước đó. Sau đó chúng ta sử dụng bộ lọc 2D để áp dụng kernel này cho hình ảnh đầu vào, để có được đầu ra mờ chuyển động."
   ]
  },
  {
   "cell_type": "markdown",
   "metadata": {},
   "source": [
    "## 4. Sharpening (Làm sắc nét)"
   ]
  },
  {
   "cell_type": "markdown",
   "metadata": {},
   "source": [
    "- Áp dụng **bộ lọc làm sắc nét (the sharpening filter)** sẽ làm sắc nét các đường nét trong ảnh.\n",
    "- Bộ lọc này rất hữu ích khi chúng ta muốn nâng cao các đường nét của hình ảnh không đủ sắc nét.\n",
    "- Như bạn có thể thấy trong hình trên, mức độ sắc nét phụ thuộc vào loại kernel chúng ta sử dụng. \n",
    "- Chúng ta có rất nhiều lựa chọn để tùy chỉnh kernel ở đây và mỗi kernel sẽ cung cấp cho bạn một loại sắc nét khác nhau. \n",
    "- Để làm sắc nét một hình ảnh (giống như hình bên phải bên trên) chúng ta sẽ sử dụng kernel như thế này:"
   ]
  },
  {
   "cell_type": "markdown",
   "metadata": {},
   "source": [
    "### $$ \n",
    "M =\n",
    "  \\left[ {\\begin{array}{cc}\n",
    "   -1 & -1 & -1\\\\\n",
    "   -1 & 9 & -1\\\\\n",
    "   -1 & -1 & -1\\\\\n",
    "  \\end{array} } \\right]$$"
   ]
  },
  {
   "cell_type": "markdown",
   "metadata": {},
   "source": [
    "- Nếu chúng ta muốn làm sắc nét hơn nữa, như trong hình dưới cùng bên trái, chúng ta sẽ sử dụng kernel sau:"
   ]
  },
  {
   "cell_type": "markdown",
   "metadata": {},
   "source": [
    "### $$ \n",
    "M =\n",
    "  \\left[ {\\begin{array}{cc}\n",
    "   1 & 1 & 1\\\\\n",
    "   1 & 7 & 1\\\\\n",
    "   1 & 1 & 1\\\\\n",
    "  \\end{array} } \\right]$$"
   ]
  },
  {
   "cell_type": "markdown",
   "metadata": {},
   "source": [
    "- Nhưng vấn đề với hai hạt nhân này là hình ảnh đầu ra trông giống như nhân tạo. Nếu chúng ta muốn hình ảnh của mình trông tự nhiên hơn, chúng ta sẽ sử dụng bộ lọc tăng cường đường nét **(edge enhancement filter)**.\n",
    "- Các khái niệm cơ bản vẫn giữ nguyên, nhưng chúng ta sử dụng kernel Gaussian gần đúng để xây dựng bộ lọc này.\n",
    "- Nó sẽ giúp chúng ta làm mịn hình ảnh khi chúng ta tăng cường các cạnh, do đó làm cho hình ảnh trông tự nhiên hơn. Đây là đoạn code để đạt được các hiệu ứng được áp dụng:"
   ]
  },
  {
   "cell_type": "code",
   "execution_count": 28,
   "metadata": {},
   "outputs": [],
   "source": [
    "import cv2\n",
    "import numpy as np\n",
    "img = cv2.imread('images/bai02/input/input.png')\n",
    "cv2.imshow('Original', img)\n",
    "# generating the kernels\n",
    "kernel_sharpen_1 = np.array([[-1,-1,-1], [-1,9,-1], [-1,-1,-1]])\n",
    "kernel_sharpen_2 = np.array([[1,1,1], [1,-7,1], [1,1,1]])\n",
    "kernel_sharpen_3 = np.array([[-1,-1,-1,-1,-1],\n",
    "[-1,2,2,2,-1],\n",
    "[-1,2,8,2,-1],\n",
    "[-1,2,2,2,-1],\n",
    "[-1,-1,-1,-1,-1]]) / 8.0\n",
    "# applying different kernels to the input image\n",
    "output_1 = cv2.filter2D(img, -1, kernel_sharpen_1)\n",
    "output_2 = cv2.filter2D(img, -1, kernel_sharpen_2)\n",
    "output_3 = cv2.filter2D(img, -1, kernel_sharpen_3)\n",
    "cv2.imshow('Sharpening', output_1)\n",
    "cv2.imshow('Excessive Sharpening', output_2)\n",
    "cv2.imshow('Edge Enhancement', output_3)\n",
    "cv2.waitKey(0)\n",
    "cv2.destroyAllWindows()"
   ]
  },
  {
   "cell_type": "markdown",
   "metadata": {},
   "source": [
    "- Nếu bạn nhận thấy, trong đoạn code trước, chúng tôi đã không chia hai kernel đầu tiên cho một yếu tố bình thường hóa.\n",
    "- Lý do cho điều này là các giá trị bên trong kernel đã tổng hợp thành một, vì vậy chúng tôi đang ngầm chia ma trận cho nó."
   ]
  },
  {
   "cell_type": "markdown",
   "metadata": {},
   "source": [
    "### Khuông mẫu"
   ]
  },
  {
   "cell_type": "markdown",
   "metadata": {},
   "source": [
    "- Bạn phải nhận thấy một pattern phổ biến trong các đoạn code lọc hình ảnh.\n",
    "- Chúng ta xây dựng một kernel và sau đó sử dụng filter2D để có được đầu ra mong muốn.\n",
    "- Đó chính xác là những gì đang xảy ra trong đoạn code là tốt! \n",
    "- Bạn có thể nghịch với các giá trị bên trong kernel và xem nếu bạn có thể nhận được các hiệu ứng hình ảnh khác nhau.\n",
    "- Hãy chắc chắn rằng bạn normalize kernel trước áp dụng nó, nếu không hình ảnh sẽ trông quá sáng bởi vì bạn đang tăng giả tạo giá trị pixel trong ảnh."
   ]
  },
  {
   "cell_type": "markdown",
   "metadata": {},
   "source": [
    "## 5. Embossing (Làm nổi)"
   ]
  },
  {
   "cell_type": "markdown",
   "metadata": {},
   "source": [
    "- Một **bộ lọc làm nổi (embossing filter)** sẽ lấy một hình ảnh và chuyển đổi nó thành một hình ảnh nổi.\n",
    "- Một cách basic, chúng ta **lấy từng pixel và thay thế nó bằng bóng hoặc tô sáng**.\n",
    "- Cho rằng chúng ta đang quan tâm tới một khu vực tương đối đơn giản trong hình ảnh. Ở đây, chúng ta cần thay thế nó bằng một màu xám trơn bởi vì không có nhiều thông tin ở đó. Nếu có nhiều sự tương phản trong một khu vực cụ thể, chúng ta sẽ thay thế nó bằng pixel trắng (tô sáng) hoặc pixel tối (bóng tối), tùy thuộc vào hướng mà chúng ta đang làm nổi."
   ]
  },
  {
   "cell_type": "code",
   "execution_count": 29,
   "metadata": {},
   "outputs": [],
   "source": [
    "import cv2\n",
    "import numpy as np\n",
    "img_emboss_input = cv2.imread('images/bai02/input/house.png')\n",
    "# generating the kernels\n",
    "kernel_emboss_1 = np.array([[0,-1,-1],\n",
    "[1,0,-1],\n",
    "[1,1,0]])\n",
    "kernel_emboss_2 = np.array([[-1,-1,0],\n",
    "[-1,0,1],\n",
    "[0,1,1]])\n",
    "kernel_emboss_3 = np.array([[1,0,0],\n",
    "[0,0,0],\n",
    "[0,0,-1]])\n",
    "# converting the image to grayscale\n",
    "gray_img = cv2.cvtColor(img_emboss_input,cv2.COLOR_BGR2GRAY)\n",
    "# applying the kernels to the grayscale image and adding the offset to produce the shadow\n",
    "output_1 = cv2.filter2D(gray_img, -1, kernel_emboss_1) + 128\n",
    "output_2 = cv2.filter2D(gray_img, -1, kernel_emboss_2) + 128\n",
    "output_3 = cv2.filter2D(gray_img, -1, kernel_emboss_3) + 128\n",
    "cv2.imshow('Input', img_emboss_input)\n",
    "cv2.imshow('Embossing - South West', output_1)\n",
    "cv2.imshow('Embossing - South East', output_2)\n",
    "cv2.imshow('Embossing - North West', output_3)\n",
    "cv2.waitKey(0)\n",
    "cv2.destroyAllWindows()"
   ]
  },
  {
   "cell_type": "markdown",
   "metadata": {},
   "source": [
    "- Bạn sẽ thấy rằng hình ảnh đầu ra được làm nổi. \n",
    "- Như chúng ta có thể nhìn thấy từ các kernel trước, chúng ta chỉ thay thế giá trị pixel hiện tại bằng sự khác biệt của các giá trị pixel lân cận theo một hướng cụ thể. \n",
    "- Hiệu ứng làm nổi (embrossing effect) đạt được bằng cách bù đắp tất cả các giá trị pixel trong ảnh bằng 128. Thao tác này làm nổi bật hiệu ứng bóng cho hình ảnh."
   ]
  },
  {
   "cell_type": "markdown",
   "metadata": {},
   "source": [
    "## 6. Edge detection (Phát hiện đường nét)"
   ]
  },
  {
   "cell_type": "markdown",
   "metadata": {},
   "source": [
    "- Quá trình phát hiện đường nét (detecting edge) bao gồm phát hiện các cạnh sắc nét trong ảnh và tạo ra hình ảnh nhị phân như đầu ra.\n",
    "- Thông thường, chúng ta vẽ các đường trắng trên nền đen để chỉ ra các cạnh đó. \n",
    "- Chúng ta có thể nghĩ về phát hiện đường nét là một hoạt động lọc thông cao (high pass filter). Một bộ lọc thông cao cho phép nội dung tần số cao đi qua và chặn tần số thấp. \n",
    "- Như chúng ta đã thảo luận trước đó, các đường nét là nội dung tần số cao. Trong phát hiện đường nét, chúng ta muốn giữ lại các cạnh này và loại bỏ mọi thứ khác. Do đó, chúng ta nên xây dựng một kernel tương đương với **bộ lọc thông cao (high pass kernel)**."
   ]
  },
  {
   "cell_type": "markdown",
   "metadata": {},
   "source": [
    "- Hãy bắt đầu với bộ lọc phát hiện đường nét đơn giản được gọi là bộ lọc **Sobel**. Vì các cạnh có thể xảy ra theo cả hai chiều ngang và dọc, bộ lọc Sobel bao gồm theo hai kernel:"
   ]
  },
  {
   "cell_type": "markdown",
   "metadata": {},
   "source": [
    "### $$\n",
    "S_x =\n",
    "  \\left[\n",
    "  {\\begin{array}{cc}\n",
    "   -1 & 0 & 1\\\\\n",
    "   -2 & 0 & 2\\\\\n",
    "   -1 & 0 & 1\\\\\n",
    "  \\end{array} } \n",
    "   \\right] ,\n",
    "S_y =\n",
    "  \\left[ {\\begin{array}{cc}\n",
    "   -1 & -2 & -1\\\\\n",
    "   0 & 0 & 0\\\\\n",
    "   1 & 2 & 1\\\\\n",
    "  \\end{array} } \n",
    "  \\right]$$"
   ]
  },
  {
   "cell_type": "markdown",
   "metadata": {},
   "source": [
    "- Kernel bên trái phát hiện các cạnh ngang và Kernel bên phải phát hiện dọc các cạnh.\n",
    "- OpenCV cung cấp một chức năng để áp dụng trực tiếp **bộ lọc Sobel** cho một hình ảnh nhất định.\n",
    "- Đây là đoạn code để sử dụng bộ lọc Sobel để phát hiện các đường nét:"
   ]
  },
  {
   "cell_type": "code",
   "execution_count": 30,
   "metadata": {},
   "outputs": [],
   "source": [
    "import cv2\n",
    "import numpy as np\n",
    "img = cv2.imread('images/bai02/input/train.png', cv2.IMREAD_GRAYSCALE)\n",
    "rows, cols = img.shape\n",
    "# It is used depth of cv2.CV_64F.\n",
    "sobel_horizontal = cv2.Sobel(img, cv2.CV_64F, 1, 0, ksize=5)\n",
    "# Kernel size can be: 1,3,5 or 7.\n",
    "sobel_vertical = cv2.Sobel(img, cv2.CV_64F, 0, 1, ksize=5)\n",
    "cv2.imshow('Original', img)\n",
    "cv2.imshow('Sobel horizontal', sobel_horizontal)\n",
    "cv2.imshow('Sobel vertical', sobel_vertical)\n",
    "cv2.waitKey(0)\n",
    "cv2.destroyAllWindows()"
   ]
  },
  {
   "cell_type": "markdown",
   "metadata": {},
   "source": [
    "- Ở hình trên, hình ảnh ở giữa là đầu ra detector dò những đường ngang, và hình ảnh bên phải là detector cạnh dọc. Như chúng ta có thể thấy ở đây, **bộ lọc Sobel** phát hiện các đường nét theo hướng ngang hoặc dọc và nó không cho chúng ta cái nhìn toàn diện của tất cả các đường nét. Để khắc phục điều này, chúng ta có thể sử dụng **bộ lọc Laplacian**.\n",
    "- Ưu điểm của việc sử dụng bộ lọc này là nó sử dụng một đạo hàm kép theo cả hai hướng."
   ]
  },
  {
   "cell_type": "code",
   "execution_count": 31,
   "metadata": {},
   "outputs": [],
   "source": [
    "laplacian = cv2.Laplacian(img, cv2.CV_64F)"
   ]
  },
  {
   "cell_type": "code",
   "execution_count": 32,
   "metadata": {},
   "outputs": [],
   "source": [
    "import cv2\n",
    "import numpy as np\n",
    "img = cv2.imread('images/bai02/input/train.png', cv2.IMREAD_GRAYSCALE)\n",
    "rows, cols = img.shape\n",
    "# Kernel size can be: 1,3,5 or 7.\n",
    "laplacian = cv2.Laplacian(img, cv2.CV_64F)\n",
    "cv2.imshow('Sobel vertical', laplacian)\n",
    "cv2.waitKey(0)\n",
    "cv2.destroyAllWindows()"
   ]
  },
  {
   "cell_type": "markdown",
   "metadata": {},
   "source": [
    "- Mặc dù kernel Laplacian hoạt động tốt trong trường hợp này, nhưng nó không phải luôn hoạt động tốt. Nó làm phát sinh nhiều nhiễu ở đầu ra, như thể hiện trong ảnh chụp màn hình sau. Vì vậy kernel Canny được dùng để cải thiện điều đó:"
   ]
  },
  {
   "cell_type": "code",
   "execution_count": null,
   "metadata": {},
   "outputs": [],
   "source": [
    "canny = cv2.Canny(img, 50, 240)"
   ]
  },
  {
   "cell_type": "code",
   "execution_count": 36,
   "metadata": {},
   "outputs": [],
   "source": [
    "import cv2\n",
    "import numpy as np\n",
    "img = cv2.imread('images/bai02/input/train.png', cv2.IMREAD_GRAYSCALE)\n",
    "rows, cols = img.shape\n",
    "# Kernel size can be: 1,3,5 or 7.\n",
    "canny = cv2.Canny(img, 50, 240)\n",
    "laplacian = cv2.Laplacian(img, cv2.CV_64F)\n",
    "cv2.imshow('Canny', canny)\n",
    "cv2.imshow('Laplacian', laplacian)\n",
    "cv2.waitKey(0)\n",
    "cv2.destroyAllWindows()"
   ]
  },
  {
   "cell_type": "markdown",
   "metadata": {},
   "source": [
    "- Như chúng ta có thể thấy, chất lượng của detector Canny tốt hơn nhiều. \n",
    "- Phải mất hai số làm đối số để chỉ ra các ngưỡng. Đối số thứ hai được gọi là ngưỡng thấp giá trị và đối số thứ ba được gọi là giá trị ngưỡng cao. Nếu giá trị độ dốc là vượt quá giá trị ngưỡng cao, nó được đánh dấu là một cạnh mạnh. \n",
    "- Edge Detector Canny bắt đầu theo dõi cạnh từ thời điểm này và tiếp tục quá trình cho đến khi giá trị gradient giảm dưới giá trị ngưỡng thấp. Khi bạn tăng các ngưỡng này, các cạnh yếu hơn sẽ được bỏ qua. Hình ảnh đầu ra sẽ sạch hơn và thưa hơn. Bạn có thể thử xung quanh với ngưỡng và xem những gì xảy ra khi bạn tăng hoặc giảm giá trị của chúng."
   ]
  },
  {
   "cell_type": "markdown",
   "metadata": {},
   "source": [
    "## 7. Erosion and dilation"
   ]
  },
  {
   "cell_type": "markdown",
   "metadata": {},
   "source": [
    "- Erosion (Xói mòn) và dilation (giãn nở) là các hoạt động xử lý hình ảnh. Hình thái của hình ảnh xử lý cơ bản liên quan đến sửa đổi cấu trúc hình học trong hình ảnh. \n",
    "- Những hoạt động chủ yếu được xác định cho hình ảnh nhị phân, nhưng chúng ta cũng có thể sử dụng chúng trên thang độ xám hình ảnh. \n",
    "- **Erosion (Xói mòn)** về cơ bản loại bỏ lớp pixel ngoài cùng trong một cấu trúc, trong khi **delation (giãn nở)** thêm một lớp pixel vào cấu trúc."
   ]
  },
  {
   "cell_type": "code",
   "execution_count": 22,
   "metadata": {},
   "outputs": [],
   "source": [
    "import cv2\n",
    "import numpy as np\n",
    "img = cv2.imread('images/bai02/input/quote.png', 0)\n",
    "kernel = np.ones((5,5), np.uint8)\n",
    "img_erosion = cv2.erode(img, kernel, iterations=1)\n",
    "img_dilation = cv2.dilate(img, kernel, iterations=1)\n",
    "cv2.imshow('Input', img)\n",
    "cv2.imshow('Erosion', img_erosion)\n",
    "cv2.imshow('Dilation', img_dilation)\n",
    "cv2.waitKey(0)\n",
    "cv2.destroyAllWindows()"
   ]
  },
  {
   "cell_type": "markdown",
   "metadata": {},
   "source": [
    "### Afterthrought"
   ]
  },
  {
   "cell_type": "markdown",
   "metadata": {},
   "source": [
    "- OpenCV cung cấp các hàm để trực tiếp erosing và delating hình ảnh.\n",
    "- Chúng được gọi là ăn mòn và giãn ra, tương ứng. Điều thú vị cần lưu ý là đối số thứ ba trong hai hàm. Số lần lặp sẽ xác định mức độ bạn muốn ăn mòn / giãn một hình ảnh đã cho.\n",
    "- Về cơ bản, nó áp dụng các hoạt động liên tiếp cho hình ảnh kết quả. Bạn có thể chụp ảnh mẫu và thử với tham số này để xem kết quả trông như thế nào."
   ]
  },
  {
   "cell_type": "markdown",
   "metadata": {},
   "source": [
    "## 8. Creating a vignette filter (Tạo bộ lọc họa tiết)"
   ]
  },
  {
   "cell_type": "markdown",
   "metadata": {},
   "source": [
    "- Sử dụng tất cả thông tin chúng ta có, hãy xem liệu chúng tôi có thể tạo bộ lọc họa tiết đẹp hay không. Đầu ra sẽ trông giống như sau:"
   ]
  },
  {
   "cell_type": "markdown",
   "metadata": {},
   "source": []
  },
  {
   "cell_type": "markdown",
   "metadata": {},
   "source": [
    "- Đây là đoạn code để đạt được hiệu ứng này:"
   ]
  },
  {
   "cell_type": "code",
   "execution_count": 38,
   "metadata": {},
   "outputs": [],
   "source": [
    "import cv2\n",
    "import numpy as np\n",
    "img = cv2.imread('images/bai02/input/flower.png')\n",
    "rows, cols = img.shape[:2]\n",
    "# generating vignette mask using Gaussian kernels\n",
    "kernel_x = cv2.getGaussianKernel(cols,200)\n",
    "kernel_y = cv2.getGaussianKernel(rows,200)\n",
    "kernel = kernel_y * kernel_x.T\n",
    "mask = 255 * kernel / np.linalg.norm(kernel)\n",
    "output = np.copy(img)\n",
    "# applying the mask to each channel in the input image\n",
    "for i in range(3):\n",
    "    output[:,:,i] = output[:,:,i] * mask\n",
    "cv2.imshow('Original', img)\n",
    "cv2.imshow('Vignette', output)\n",
    "cv2.waitKey(0)\n",
    "cv2.destroyAllWindows()"
   ]
  },
  {
   "cell_type": "markdown",
   "metadata": {},
   "source": [
    "- **Bộ lọc họa tiết (vignette filter)** về cơ bản tập trung độ sáng vào một phần cụ thể của hình ảnh và các bộ phận khác trông mờ dần. \n",
    "- Để đạt được điều này, chúng ta cần lọc ra từng kênh trong hình ảnh bằng kernel **Gaussian**. OpenCV cung cấp một chức năng để làm điều này, được gọi là **getGaussian** kernel. \n",
    "- Chúng ta cần xây dựng một kernel 2D có kích thước phù hợp với kích thước của hình ảnh. Tham số thứ hai của hàm, **getGaussianKernel**, rất thú vị. Nó là **độ lệch chuẩn của Gaussian** và **nó kiểm soát bán kính của vùng trung tâm sáng**. Bạn có thử các giá trị khác nhau với tham số này và xem nó ảnh hưởng đến đầu ra như thế nào."
   ]
  },
  {
   "cell_type": "markdown",
   "metadata": {},
   "source": [
    "- Khi chúng ta xây dựng kernel 2D, chúng ta cần xây dựng một **mask** bằng cách chuẩn hóa (normalize) kernel này và nhân rộng nó lên, như thể hiện trong dòng sau:"
   ]
  },
  {
   "cell_type": "code",
   "execution_count": 7,
   "metadata": {},
   "outputs": [],
   "source": [
    "mask = 255 * kernel / np.linalg.norm(kernel)"
   ]
  },
  {
   "cell_type": "markdown",
   "metadata": {},
   "source": [
    "- Đây là một bước quan trọng vì nếu bạn không mở rộng nó, hình ảnh sẽ trông có màu đen.\n",
    "- Điều này xảy ra bởi vì tất cả các giá trị pixel sẽ gần bằng 0 sau khi bạn đặt mask trên hình ảnh đầu vào. Sau đó, chúng ta lặp lại qua tất cả các kênh màu và áp dụng mask đến từng kênh."
   ]
  },
  {
   "cell_type": "markdown",
   "metadata": {},
   "source": [
    "### Tập trung vào trung tâm của hình ảnh"
   ]
  },
  {
   "cell_type": "markdown",
   "metadata": {},
   "source": [
    "- Bây giờ chúng ta biết làm thế nào để tạo một bộ lọc họa tiết (vignette filter) tập trung vào trung tâm của hình ảnh. \n",
    "- Bây giờ muốn đạt được hiệu ứng họa tiết tương tự, nhưng chúng ta muốn tập trung vào một khu vực khác trong hình ảnh, như thể hiện trong hình sau:"
   ]
  },
  {
   "cell_type": "markdown",
   "metadata": {},
   "source": []
  },
  {
   "cell_type": "markdown",
   "metadata": {},
   "source": [
    "- Tất cả những gì chúng ta cần làm là xây dựng một kernel Gaussian lớn hơn và đảm bảo rằng đỉnh trùng khớp với các khu vực quan tâm. Sau đây là đoạn code để đạt được điều này:"
   ]
  },
  {
   "cell_type": "code",
   "execution_count": null,
   "metadata": {},
   "outputs": [],
   "source": [
    "import cv2\n",
    "import numpy as np\n",
    "\n",
    "img = cv2.imread('images/bai02/input/flower.png')\n",
    "rows, cols = img.shape[:2]\n",
    "\n",
    "# generating vignette mask using Gaussian kernels\n",
    "kernel_x = cv2.getGaussianKernel(int(1.5*cols),200)\n",
    "kernel_y = cv2.getGaussianKernel(int(1.5*rows),200)\n",
    "kernel = kernel_y * kernel_x.T\n",
    "mask = 255 * kernel / np.linalg.norm(kernel)\n",
    "mask = mask[int(0.5*rows):, int(0.5*cols):]\n",
    "output = np.copy(img)\n",
    "\n",
    "# applying the mask to each channel in the input image\n",
    "for i in range(3):\n",
    "    output[:,:,i] = output[:,:,i] * mask\n",
    "    \n",
    "cv2.imshow('Input', img)\n",
    "cv2.imshow('Vignette with shifted focus', output)\n",
    "cv2.imwrite(\"temp.png\",output)\n",
    "cv2.waitKey(0)\n",
    "cv2.destroyAllWindows()"
   ]
  },
  {
   "cell_type": "markdown",
   "metadata": {},
   "source": [
    "## 9. Tăng cường độ tương phản"
   ]
  },
  {
   "cell_type": "markdown",
   "metadata": {},
   "source": [
    "- Bất cứ khi nào chúng ta chụp ảnh trong điều kiện ánh sáng yếu, hình ảnh sẽ bị tối.\n",
    "- Điều này thường xảy ra khi bạn chụp ảnh vào buổi tối hoặc trong phòng thiếu sáng. Bạn phải thấy điều này xảy ra nhiều lần! \n",
    "- Lý do điều này xảy ra là vì pixel các giá trị có xu hướng tập trung gần bằng 0 khi chúng ta chụp ảnh trong các điều kiện như vậy. Khi điều này xảy ra, rất nhiều chi tiết trong hình ảnh không thể nhìn thấy rõ bằng mắt người. Các mắt người giống như độ tương phản, và vì vậy chúng ta cần điều chỉnh độ tương phản để làm cho hình ảnh đẹp và dễ chịu. \n",
    "- Rất nhiều máy ảnh và ứng dụng ảnh hoàn toàn làm điều này. Chúng ta sử dụng một quá trình gọi là cân bằng **biểu đồ (histogram equalization)** để đạt được điều này."
   ]
  },
  {
   "cell_type": "markdown",
   "metadata": {},
   "source": [
    "- Để đưa ra một ví dụ, đây là những gì nó trông giống như trước và sau khi tăng cường độ tương phản:"
   ]
  },
  {
   "cell_type": "markdown",
   "metadata": {},
   "source": [
    "![enhance contrast](images/bai02/images/enhancecontrast.png)"
   ]
  },
  {
   "cell_type": "markdown",
   "metadata": {},
   "source": [
    "- Như chúng ta có thể thấy ở đây, hình ảnh đầu vào bên trái thực sự tối. Để khắc phục điều này, chúng ta cần điều chỉnh các giá trị pixel sao cho chúng được trải đều trên toàn bộ phổ của các giá trị, nghĩa là trong khoảng 0-255."
   ]
  },
  {
   "cell_type": "markdown",
   "metadata": {},
   "source": [
    "- Sau đây là đoạn code để điều chỉnh các giá trị pixel:"
   ]
  },
  {
   "cell_type": "code",
   "execution_count": 20,
   "metadata": {},
   "outputs": [],
   "source": [
    "import cv2\n",
    "import numpy as np\n",
    "img = cv2.imread('images/bai02/input/grayimage.png', 0)\n",
    "# equalize the histogram of the input image\n",
    "histeq = cv2.equalizeHist(img)\n",
    "cv2.imshow('Input', img)\n",
    "cv2.imshow('Histogram equalized', histeq)\n",
    "cv2.waitKey(0)\n",
    "cv2.destroyAllWindows()"
   ]
  },
  {
   "cell_type": "markdown",
   "metadata": {},
   "source": [
    "- **Cân bằng biểu đồ (histogram equalization)** được áp dụng cho hình ảnh thang độ xám. \n",
    "- OpenCV cung cấp một hàm, **equalizeHist**, để đạt được hiệu ứng này.\n",
    "- Như chúng ta có thể thấy ở đây, đoạn code rất đơn giản, nơi chúng ta đọc hình ảnh và cân bằng biểu đồ của nó để bình thường hóa độ sáng và tăng độ tương phản của hình ảnh."
   ]
  },
  {
   "cell_type": "markdown",
   "metadata": {},
   "source": [
    "### Làm sao xử lý ảnh màu"
   ]
  },
  {
   "cell_type": "markdown",
   "metadata": {},
   "source": [
    "- Bây giờ chúng ta đã biết cách cân bằng biểu đồ của hình ảnh thang độ xám, bạn có thể tự hỏi làm thế nào để xử lý hình ảnh màu.\n",
    "- Những thứ về cân bằng biểu đồ là một quá trình phi tuyến. Vì vậy, chúng ta không thể tách ba kênh trong một hình ảnh RGB, cân bằng biểu đồ riêng biệt và kết hợp chúng sau để tạo thành hình ảnh đầu ra.\n",
    "- Các khái niệm cân bằng biểu đồ chỉ áp dụng cho các giá trị cường độ trong ảnh. Vì thế, chúng ta phải đảm bảo không sửa đổi thông tin màu khi chúng ta làm điều này."
   ]
  },
  {
   "cell_type": "markdown",
   "metadata": {},
   "source": [
    "- Để xử lý cân bằng biểu đồ của hình ảnh màu, chúng ta cần chuyển đổi nó thành không gian màu, nơi cường độ được tách ra khỏi thông tin màu.\n",
    "- YUV là một ví dụ điển hình của một không gian màu như vậy, vì mô hình YUV định nghĩa một không gian màu theo một **Luminance(Y)** và hai thành phần **Chrominance (UV)**.\n",
    "- Khi chúng ta chuyển đổi nó thành YUV, chúng tôi chỉ cần cân bằng kênh Y và kết hợp nó với hai kênh còn lại để có được hình ảnh đầu ra."
   ]
  },
  {
   "cell_type": "markdown",
   "metadata": {},
   "source": [
    "- Đây là đoạn code để đạt được sự cân bằng biểu đồ (histogram equalizaion) cho hình ảnh màu:"
   ]
  },
  {
   "cell_type": "code",
   "execution_count": 21,
   "metadata": {},
   "outputs": [],
   "source": [
    "import cv2\n",
    "import numpy as np\n",
    "img = cv2.imread('images/bai02/input/input.png')\n",
    "img_yuv = cv2.cvtColor(img, cv2.COLOR_BGR2YUV)\n",
    "# equalize the histogram of the Y channel\n",
    "img_yuv[:,:,0] = cv2.equalizeHist(img_yuv[:,:,0])\n",
    "# convert the YUV image back to RGB format\n",
    "img_output = cv2.cvtColor(img_yuv, cv2.COLOR_YUV2BGR)\n",
    "cv2.imshow('Color input image', img)\n",
    "cv2.imshow('Histogram equalized', img_output)\n",
    "cv2.waitKey(0)\n",
    "cv2.destroyAllWindows()"
   ]
  },
  {
   "cell_type": "markdown",
   "metadata": {},
   "source": [
    "## Kết luận"
   ]
  },
  {
   "cell_type": "markdown",
   "metadata": {},
   "source": [
    "- Trong phần này, chúng ta đã tìm hiểu cách sử dụng các bộ lọc hình ảnh để áp dụng các hiệu ứng hình ảnh thú vị cho hình ảnh. Chúng ta đã thảo luận về các toán tử xử lý ảnh cơ bản và cách chúng ta có thể sử dụng chúng để xây dựng nhiều thứ.\n",
    "- Chúng ta tìm hiểu cách phát hiện các đường nét, các cạnh bằng các phương pháp khác nhau. Chúng ta hiểu tầm quan trọng của tích chập 2D và cách chúng ta có thể sử dụng nó trong các tình huống khác nhau.\n",
    "- Chúng ta đã thảo luận làm thế nào để làm mịn, làm mờ chuyển động, làm sắc nét, chạm nổi, ăn mòn và làm giãn một hình ảnh. Chúng tôi đã học cách tạo bộ lọc họa tiết và cách chúng tôi có thể thay đổi vùng lấy nét như tốt. Chúng tôi đã thảo luận về tăng cường độ tương phản và làm thế nào chúng ta có thể sử dụng cân bằng biểu đồ để đạt được nó."
   ]
  }
 ],
 "metadata": {
  "kernelspec": {
   "display_name": "Python 3",
   "language": "python",
   "name": "python3"
  },
  "language_info": {
   "codemirror_mode": {
    "name": "ipython",
    "version": 3
   },
   "file_extension": ".py",
   "mimetype": "text/x-python",
   "name": "python",
   "nbconvert_exporter": "python",
   "pygments_lexer": "ipython3",
   "version": "3.7.5"
  },
  "latex_envs": {
   "LaTeX_envs_menu_present": true,
   "autoclose": false,
   "autocomplete": true,
   "bibliofile": "biblio.bib",
   "cite_by": "apalike",
   "current_citInitial": 1,
   "eqLabelWithNumbers": true,
   "eqNumInitial": 1,
   "hotkeys": {
    "equation": "Ctrl-E",
    "itemize": "Ctrl-I"
   },
   "labels_anchors": false,
   "latex_user_defs": false,
   "report_style_numbering": false,
   "user_envs_cfg": false
  },
  "toc": {
   "base_numbering": 1,
   "nav_menu": {},
   "number_sections": false,
   "sideBar": true,
   "skip_h1_title": true,
   "title_cell": "Table of Contents",
   "title_sidebar": "Contents",
   "toc_cell": false,
   "toc_position": {
    "height": "calc(100% - 180px)",
    "left": "10px",
    "top": "150px",
    "width": "249px"
   },
   "toc_section_display": true,
   "toc_window_display": true
  }
 },
 "nbformat": 4,
 "nbformat_minor": 2
}
