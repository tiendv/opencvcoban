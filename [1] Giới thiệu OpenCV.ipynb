{
 "cells": [
  {
   "cell_type": "markdown",
   "metadata": {},
   "source": [
    "# Bài 1. Giới thiệu OpenCV"
   ]
  },
  {
   "cell_type": "markdown",
   "metadata": {},
   "source": [
    "## Nội dung\n",
    "1. OpenCV là gì ?\n",
    "2. Tại sao nên học OpenCV ?\n",
    "3. Cài đặt OpenCV\n",
    "4. Warm up: Phát hiện khuôn mặt \n",
    "5. Kết luận\n",
    "----"
   ]
  },
  {
   "cell_type": "markdown",
   "metadata": {},
   "source": [
    "## 1. Giới thiệu OpenCV"
   ]
  },
  {
   "cell_type": "markdown",
   "metadata": {},
   "source": [
    "`OpenCV`(Thư viện thị giác máy tính nguồn mở) là một thư viện phần mềm máy tính và thị giác máy tính nguồn mở. OpenCV được xây dựng để cung cấp một cơ sở hạ tầng chung cho các ứng dụng thị giác máy tính và để đẩy nhanh việc sử dụng nhận thức của máy trong các sản phẩm thương mại. Là một sản phẩm được cấp phép BSD, OpenCV giúp các doanh nghiệp dễ dàng sử dụng và sửa đổi mã nguồn.\n",
    "\n",
    "![Logo OpenCV](images/bai00/images/logo.jpg)"
   ]
  },
  {
   "cell_type": "markdown",
   "metadata": {},
   "source": [
    "Thư viện này có hơn 2500 thuật toán được tối ưu hóa, bao gồm một bộ toàn diện về cả thuật toán máy tính cổ điển và hiện đại và thuật toán học máy. **Các thuật toán này có thể được sử dụng để phát hiện và nhận diện khuôn mặt, nhận dạng đối tượng, phân loại hành động của con người trong video, theo dõi chuyển động của camera, theo dõi các vật thể chuyển động, trích xuất mô hình 3D của các vật thể, tạo ra các đám mây điểm 3D từ camera stereo, ghép các hình ảnh lại với nhau để tạo ra độ phân giải cao hình ảnh của toàn bộ cảnh, tìm hình ảnh tương tự từ cơ sở dữ liệu hình ảnh, loại bỏ mắt đỏ khỏi hình ảnh được chụp bằng đèn flash, theo dõi chuyển động của mắt, nhận ra cảnh quan và thiết lập các điểm đánh dấu để che phủ nó với thực tế tăng cường,...** OpenCV có hơn 47 nghìn người dùng cộng đồng và số lượng tải xuống ước tính hơn 18 triệu. Thư viện được sử dụng rộng rãi trong các công ty, nhóm nghiên cứu và bởi các cơ quan chính phủ.\n",
    "\n",
    "![Useful of OpenCV](images/bai00/images/useofopencv.png)"
   ]
  },
  {
   "cell_type": "markdown",
   "metadata": {},
   "source": [
    "Cùng với các công ty được thành lập như Google, Yahoo, Microsoft, Intel, IBM, Sony, Honda, Toyota sử dụng thư viện, có rất nhiều công ty khởi nghiệp như Application Minds, VideoSurf và Zeitera sử dụng OpenCV. OpenCV được triển khai sử dụng trải rộng phạm vi từ ghép các hình ảnh đường phố với nhau, phát hiện sự xâm nhập trong video giám sát ở Israel, giám sát thiết bị của tôi ở Trung Quốc, giúp robot điều hướng và nhặt đồ vật tại Willow Garage, phát hiện tai nạn đuối nước ở bể bơi ở châu Âu, chạy nghệ thuật tương tác trong Tây Ban Nha và New York, kiểm tra đường băng cho các mảnh vỡ ở Thổ Nhĩ Kỳ, kiểm tra nhãn trên các sản phẩm trong các nhà máy trên khắp thế giới để phát hiện khuôn mặt nhanh chóng ở Nhật Bản.\n",
    "\n",
    "![](images/bai00/images/opencv-with-companies.png)"
   ]
  },
  {
   "cell_type": "markdown",
   "metadata": {},
   "source": [
    "## 2. Tại sao học OpenCV"
   ]
  },
  {
   "cell_type": "markdown",
   "metadata": {},
   "source": [
    "### Học OpenCV hay học xử lý ảnh."
   ]
  },
  {
   "cell_type": "markdown",
   "metadata": {},
   "source": [
    "\n",
    "OpenCV là thể hiện của các lĩnh vực xử lý ảnh. Việc học OpenCV thực ra là học xử lý ảnh từ cơ bản đến nâng cao nhưng quá trình học này phải gắn liền với OpenCV để tạo ra các chương trình thực sự giúp cho chúng ta nhìn thấy được thật sự rằng không chỉ là lý thuyết suông.\n",
    "\n",
    "\n",
    "**Tóm lại, chúng ta dùng OpenCV bổ trợ cho việc học xử lý ảnh**."
   ]
  },
  {
   "cell_type": "markdown",
   "metadata": {},
   "source": [
    "### OpenCV nhanh chóng cho ta sản phẩm"
   ]
  },
  {
   "cell_type": "markdown",
   "metadata": {},
   "source": [
    "Các công ty trên thế giới dùng OpenCV để tạo ra các hệ thống hữu ích, đôi khi chúng ta gọi là trí tuệ nhân tạo . Bạn cũng có thể tạo ra các sản phẩm như vậy. Bằng việc sử dụng OpenCV và một số công nghệ khác bạn có thể dễ dàng tạo ra các sản phẩm trong thời gian ngắn. Dưới đây là một số demo giúp bạn có cái nhìn thực tế khi học OpenCV bạn có thể làm được gì. "
   ]
  },
  {
   "cell_type": "markdown",
   "metadata": {},
   "source": [
    "#### Theo dõi đối tượng bẳng camera\n",
    "\n",
    "![Object detection in camera](images/bai00/images/objectdetection.gif)"
   ]
  },
  {
   "cell_type": "markdown",
   "metadata": {},
   "source": [
    "#### Nhận diện hành động trong video\n",
    "\n",
    "![](images/bai00/images/actionrecognition.png)"
   ]
  },
  {
   "cell_type": "markdown",
   "metadata": {},
   "source": [
    "#### Hệ thống xe tự lái\n",
    "\n",
    "![](images/bai00/images/selfdrivingcar.gif)"
   ]
  },
  {
   "cell_type": "markdown",
   "metadata": {},
   "source": [
    "## 3. Cài đặt OpenCV"
   ]
  },
  {
   "cell_type": "markdown",
   "metadata": {},
   "source": [
    "### Bước 01: Cài đặt Anaconda"
   ]
  },
  {
   "cell_type": "markdown",
   "metadata": {},
   "source": [
    "[Anaconda](https://www.anaconda.com/) là nơi chứa những thứ liên quan đến khoa học dữ liệu phổ biến và được dùng nhiều nhất cho đến nay.\n",
    "\n",
    "Tham khảo hai bài viết dưới đây để cài đăt Anaconda phù hợp cho từng hệ điều hành:\n",
    "-  Đối với Ubuntu: [How To Install Anaconda on Ubuntu 18.04 [Quickstart]](https://www.digitalocean.com/community/tutorials/how-to-install-anaconda-on-ubuntu-18-04-quickstart)\n",
    "\n",
    "- Đối với Windows: [Installing on Windows\n",
    "](https://docs.anaconda.com/anaconda/install/windows/)"
   ]
  },
  {
   "cell_type": "markdown",
   "metadata": {},
   "source": [
    "### Bước 02: Cài đặt môi trường OpenCV"
   ]
  },
  {
   "cell_type": "markdown",
   "metadata": {},
   "source": [
    "Mở Termial(Ubuntu) hoặc Anaconda Prompt(Windows) và gõ các lệnh dưới đây."
   ]
  },
  {
   "cell_type": "code",
   "execution_count": null,
   "metadata": {},
   "outputs": [],
   "source": []
  },
  {
   "cell_type": "markdown",
   "metadata": {},
   "source": [
    "**Tạo môi trường ảo có tên là opencv_env**\n",
    "``` \n",
    "conda create -n opencv_env python==3.7\n",
    "```"
   ]
  },
  {
   "cell_type": "markdown",
   "metadata": {},
   "source": [
    "**Kích hoạt môi trường ảo và cập nhật**\n",
    "```\n",
    "conda activate opencv_env\n",
    "\n",
    "conda update --all\n",
    "```"
   ]
  },
  {
   "cell_type": "markdown",
   "metadata": {},
   "source": [
    "**Cài đặt thư viện OpenCV**\n",
    "\n",
    "Lưu ý: chúng ta có hai loại packages opencv là `opencv-python` và `opencv-contrib-python`(do một số cộng đồng lập trình viên xây dựng), bạn có thể tùy chọn cài đặt một trong hai.\n",
    "\n",
    "```\n",
    "pip install opencv-contrib-python jupyter\n",
    "```\n",
    "\n",
    "hoặc\n",
    "\n",
    "```\n",
    "pip install opencv-python jupyter\n",
    "```"
   ]
  },
  {
   "cell_type": "markdown",
   "metadata": {},
   "source": [
    "**Kiểm tra**\n",
    "\n",
    "Sau khi đã hoàn thành quá trình cài đặt thư viện OpenCV vào mô trường `opencv_env`, bạn có thể sử dụng thư viện OpenCV trong các chương trình được thực thi trên môi trường ảo `opencv_env` bằng cách kích hoạt môi trường ảo `opencv_env` và khởi động `Jupyter Notebook` đã được cài đặt cùng với thư viện OpenCV ở bên trên.\n",
    "\n",
    "Mở `Terminal(trên Ubuntu)` hoặc `Anaconda Prompt(trên Windows)` và gõ các lệnh dưới đây."
   ]
  },
  {
   "cell_type": "markdown",
   "metadata": {},
   "source": [
    "```bash\n",
    "\n",
    "conda activate opencv_env\n",
    "\n",
    "python\n",
    "\n",
    ">>> import cv2\n",
    "\n",
    ">>> cv2.__verson__\n",
    "```"
   ]
  },
  {
   "cell_type": "markdown",
   "metadata": {},
   "source": [
    "Nếu các lệnh thực thi không có lỗi phát sinh thì việc cài đặt OpenCV đã thành công. Sau đó chúng ta sẽ dùng Jupyter Notebook để làm việc với OpenCV.\n",
    "\n",
    "![Kiểm tra bằng Jupyter Notebook](images/bai00/images/test.png)"
   ]
  },
  {
   "cell_type": "markdown",
   "metadata": {},
   "source": [
    "##  4. Warm up: Phát hiện khuôn mặt với OpenCV"
   ]
  },
  {
   "cell_type": "markdown",
   "metadata": {},
   "source": [
    "### Phát biểu bài toán"
   ]
  },
  {
   "cell_type": "markdown",
   "metadata": {},
   "source": [
    "**Input**: ảnh được chụp từ camera hoặc luồng video trực tiếp\n",
    "\n",
    "**Output**: vị trí khuôn mặt người xuất hiện trong bức ảnh."
   ]
  },
  {
   "cell_type": "markdown",
   "metadata": {},
   "source": [
    "### Source code"
   ]
  },
  {
   "cell_type": "code",
   "execution_count": 1,
   "metadata": {},
   "outputs": [],
   "source": [
    "import cv2\n",
    "import numpy as np\n",
    "\n",
    "face_cascade = cv2.CascadeClassifier('images/bai00/haar-cascade-files/haarcascade_frontalface_default.xml')\n",
    "cap = cv2.VideoCapture(0)\n",
    "scaling_factor = 1.4\n",
    "\n",
    "while True:\n",
    "    ret, frame = cap.read()\n",
    "    frame = cv2.resize(frame, None, fx=scaling_factor, fy=scaling_factor, interpolation=cv2.INTER_AREA)\n",
    "    face_rects = face_cascade.detectMultiScale(frame, scaleFactor=1.3, minNeighbors=3)\n",
    "    for (x,y,w,h) in face_rects:\n",
    "        cv2.rectangle(frame, (x,y), (x+w,y+h), (0,255,0), 3)\n",
    "        cv2.imshow('Face Detector', frame)\n",
    "    c = cv2.waitKey(1)\n",
    "    if c == 27:\n",
    "        break\n",
    "        \n",
    "cap.release()\n",
    "cv2.destroyAllWindows()"
   ]
  },
  {
   "cell_type": "markdown",
   "metadata": {},
   "source": [
    "Kết quả của chúng ta là một cửa sổ với hình ảnh được ghi hình từ webcam của laptop kèm với đó là vị trí của khuôn mặt trong video.\n",
    "\n",
    "![Demo 01](images/bai00/images/demo01.png)\n",
    "\n",
    "Bằng việc dùng OpenCV, chỉ với 20 dòng code chúng ta đã có thể tạo ra một chương trình phát hiện khuôn mặt trong video. \n",
    "\n",
    "### That's so awesome !"
   ]
  },
  {
   "cell_type": "markdown",
   "metadata": {},
   "source": [
    "## 4. Kết luận"
   ]
  },
  {
   "cell_type": "markdown",
   "metadata": {},
   "source": [
    "OpenCV là một thư viện mã nguồn mở được viết bằng C++, Python cho phép người dùng nhanh chóng tạo ra các sản phẩm thực tế. \n",
    "Trong các phần sau chúng ta sẽ học các phần cơ bản liên quan đến xử lý ảnh bằng OpenCV rồi sau đó là đến một số phần nâng cao như các hệ thống phức tạp."
   ]
  }
 ],
 "metadata": {
  "kernelspec": {
   "display_name": "Python 3",
   "language": "python",
   "name": "python3"
  },
  "language_info": {
   "codemirror_mode": {
    "name": "ipython",
    "version": 3
   },
   "file_extension": ".py",
   "mimetype": "text/x-python",
   "name": "python",
   "nbconvert_exporter": "python",
   "pygments_lexer": "ipython3",
   "version": "3.7.6"
  },
  "latex_envs": {
   "LaTeX_envs_menu_present": true,
   "autoclose": false,
   "autocomplete": true,
   "bibliofile": "biblio.bib",
   "cite_by": "apalike",
   "current_citInitial": 1,
   "eqLabelWithNumbers": true,
   "eqNumInitial": 1,
   "hotkeys": {
    "equation": "Ctrl-E",
    "itemize": "Ctrl-I"
   },
   "labels_anchors": false,
   "latex_user_defs": false,
   "report_style_numbering": false,
   "user_envs_cfg": false
  },
  "toc": {
   "base_numbering": 1,
   "nav_menu": {},
   "number_sections": false,
   "sideBar": true,
   "skip_h1_title": true,
   "title_cell": "Table of Contents",
   "title_sidebar": "Contents",
   "toc_cell": false,
   "toc_position": {
    "height": "calc(100% - 180px)",
    "left": "10px",
    "top": "150px",
    "width": "165px"
   },
   "toc_section_display": true,
   "toc_window_display": false
  }
 },
 "nbformat": 4,
 "nbformat_minor": 2
}
