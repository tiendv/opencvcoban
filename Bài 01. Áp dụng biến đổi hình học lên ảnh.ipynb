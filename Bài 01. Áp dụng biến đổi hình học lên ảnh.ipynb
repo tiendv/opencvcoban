{
 "cells": [
  {
   "cell_type": "markdown",
   "metadata": {},
   "source": [
    "# Chương 01. Áp dụng biến đổi hình học lên ảnh"
   ]
  },
  {
   "cell_type": "markdown",
   "metadata": {},
   "source": [
    "## Contents:\n",
    "1. Reading, displaying, saving images\n",
    "2. Loading and saving an image\n",
    "3. Image color spaces\n",
    "   - 3.1 Converting color space\n",
    "   - 3.2 Spitting image channels\n",
    "   - 3.3 Merging image channel\n",
    "4. Image translation\n",
    "5. Image rotation\n",
    "6. Image scaling\n",
    "7. Affine transformations\n",
    "8. Projective transformations\n",
    "9. Image waring"
   ]
  },
  {
   "cell_type": "markdown",
   "metadata": {},
   "source": [
    "## 1. Reading, displaying, saving images"
   ]
  },
  {
   "cell_type": "markdown",
   "metadata": {},
   "source": [
    "- Giả sử ta có một file có định dạng là ảnh được lưu trong máy hay một nơi nào đó với tên là `input.jpg`.\n",
    "- Để **đọc** ảnh đó  vào chương trình và **display** ta thực thi đoạn code sau:"
   ]
  },
  {
   "cell_type": "code",
   "execution_count": 1,
   "metadata": {
    "scrolled": true
   },
   "outputs": [],
   "source": [
    "import cv2\n",
    "img = cv2.imread(\"input/input.jpg\")\n",
    "cv2.imshow(\"Input image\", img)\n",
    "cv2.waitKey(0)f\n",
    "type(img)\n",
    "cv2.destroyAllWindows()"
   ]
  },
  {
   "cell_type": "markdown",
   "metadata": {},
   "source": [
    "- **Quan sát**:\n",
    "    + `Line 1`: import thư viện để làm việc trong OpenCV.\n",
    "    + `Line 2`: Gọi thực hiện phương thức **imread()** để đọc một ảnh có **path** nằm bên trong dấu ngoặc đơn.\n",
    "    + `Line 3`: Gọi thực hiện phương thức **imshow()** để hiển ảnh trong một cửa sổ mới.\n",
    "    + `Line 4`: Chương trình **dừng lại** và **chờ một kí tự được nhập vào để được thực thi tiếp**.\n",
    "    + `Line 5`: Kiểm tra xem **kiểu dữ liệu** của đối tượng được tham chiếu bởi **img**. **Kết quả cho thấy ảnh là ma trận.**\n",
    "    + `Line 6`: Tắt tất cả cửa sổ được mở bằng thư viện cv2"
   ]
  },
  {
   "cell_type": "markdown",
   "metadata": {},
   "source": [
    "## 2. Loading and saving an image"
   ]
  },
  {
   "cell_type": "markdown",
   "metadata": {},
   "source": [
    "- **OpenCV** cung cấp nhiều cách load một ảnh vào chương trình.\n",
    "- Ta có thể load một ảnh với **chế độ thang màu xám (Grayscale mode)** với đoạn code sau:"
   ]
  },
  {
   "cell_type": "code",
   "execution_count": 2,
   "metadata": {},
   "outputs": [
    {
     "ename": "error",
     "evalue": "OpenCV(4.1.0) C:\\projects\\opencv-python\\opencv\\modules\\highgui\\src\\window.cpp:352: error: (-215:Assertion failed) size.width>0 && size.height>0 in function 'cv::imshow'\n",
     "output_type": "error",
     "traceback": [
      "\u001b[1;31m---------------------------------------------------------------------------\u001b[0m",
      "\u001b[1;31merror\u001b[0m                                     Traceback (most recent call last)",
      "\u001b[1;32m<ipython-input-2-c3c7c0ebf175>\u001b[0m in \u001b[0;36m<module>\u001b[1;34m\u001b[0m\n\u001b[0;32m      1\u001b[0m \u001b[1;32mimport\u001b[0m \u001b[0mcv2\u001b[0m\u001b[1;33m\u001b[0m\u001b[1;33m\u001b[0m\u001b[0m\n\u001b[0;32m      2\u001b[0m \u001b[0mgray_img\u001b[0m \u001b[1;33m=\u001b[0m\u001b[0mcv2\u001b[0m\u001b[1;33m.\u001b[0m\u001b[0mimread\u001b[0m\u001b[1;33m(\u001b[0m\u001b[1;34m\"input/input.jpg\"\u001b[0m\u001b[1;33m,\u001b[0m \u001b[0mcv2\u001b[0m\u001b[1;33m.\u001b[0m\u001b[0mIMREAD_GRAYSCALE\u001b[0m\u001b[1;33m)\u001b[0m\u001b[1;33m\u001b[0m\u001b[1;33m\u001b[0m\u001b[0m\n\u001b[1;32m----> 3\u001b[1;33m \u001b[0mcv2\u001b[0m\u001b[1;33m.\u001b[0m\u001b[0mimshow\u001b[0m\u001b[1;33m(\u001b[0m\u001b[1;34m'GrayScale'\u001b[0m\u001b[1;33m,\u001b[0m \u001b[0mgray_img\u001b[0m\u001b[1;33m)\u001b[0m\u001b[1;33m\u001b[0m\u001b[1;33m\u001b[0m\u001b[0m\n\u001b[0m\u001b[0;32m      4\u001b[0m \u001b[0mcv2\u001b[0m\u001b[1;33m.\u001b[0m\u001b[0mwaitKey\u001b[0m\u001b[1;33m(\u001b[0m\u001b[1;36m0\u001b[0m\u001b[1;33m)\u001b[0m\u001b[1;33m\u001b[0m\u001b[1;33m\u001b[0m\u001b[0m\n\u001b[0;32m      5\u001b[0m \u001b[0mtype\u001b[0m\u001b[1;33m(\u001b[0m\u001b[0mgray_img\u001b[0m\u001b[1;33m)\u001b[0m\u001b[1;33m\u001b[0m\u001b[1;33m\u001b[0m\u001b[0m\n",
      "\u001b[1;31merror\u001b[0m: OpenCV(4.1.0) C:\\projects\\opencv-python\\opencv\\modules\\highgui\\src\\window.cpp:352: error: (-215:Assertion failed) size.width>0 && size.height>0 in function 'cv::imshow'\n"
     ]
    }
   ],
   "source": [
    "import cv2\n",
    "gray_img =cv2.imread(\"input/input.jpg\", cv2.IMREAD_GRAYSCALE)\n",
    "cv2.imshow('GrayScale', gray_img)\n",
    "cv2.waitKey(0)\n",
    "type(gray_img)\n",
    "cv2.destroyAllWindows()"
   ]
  },
  {
   "cell_type": "markdown",
   "metadata": {},
   "source": [
    "- **Nhận xét:**\n",
    "    - `Line 1`: import thư viện làm việc với OpenCV vào chương trình.\n",
    "    - `Line 2`: gọi thực hiện phương thức **imread()** để load một file (ở đây là ảnh) có đường dẫn là \"input.jpg\" dưới chế độ IMREAD_GRAYSCALE (thang màu xám).\n",
    "    - `Line 3`: Hiển thị một ảnh được lưu trong **gray_img** trong một window mới với tên là `GrayScale`.\n",
    "    - `Line 4`: Đứng chương trình lại cho đến khi nhập một kí tự bất kì từ bàn phím.\n",
    "    + `Line 5`: Kiểm tra xem **kiểu dữ liệu** của đối tượng đượng reference bởi **gray_img**. **Kết quả cho thấy ảnh là ma trận.**"
   ]
  },
  {
   "cell_type": "markdown",
   "metadata": {},
   "source": [
    "- Lưu lại ảnh dưới tên **\"output.jpg\"**:"
   ]
  },
  {
   "cell_type": "code",
   "execution_count": 3,
   "metadata": {},
   "outputs": [
    {
     "data": {
      "text/plain": [
       "True"
      ]
     },
     "execution_count": 3,
     "metadata": {},
     "output_type": "execute_result"
    }
   ],
   "source": [
    "cv2.imwrite(\"output/output.jpg\", gray_img)"
   ]
  },
  {
   "cell_type": "markdown",
   "metadata": {},
   "source": [
    "**Changing image format**"
   ]
  },
  {
   "cell_type": "markdown",
   "metadata": {},
   "source": [
    "- Chúng ta có thể thay đổi **định dạng ban đầu của ảnh (orgirinal image format)** khi lưu lại ảnh qua đoạn code sau:"
   ]
  },
  {
   "cell_type": "code",
   "execution_count": 4,
   "metadata": {},
   "outputs": [
    {
     "data": {
      "text/plain": [
       "True"
      ]
     },
     "execution_count": 4,
     "metadata": {},
     "output_type": "execute_result"
    }
   ],
   "source": [
    "import cv2\n",
    "gray_img = cv2.imread(\"input\\input.jpg\", cv2.IMREAD_GRAYSCALE)\n",
    "cv2.imwrite(\"output\\output.png\", gray_img, [cv2.IMWRITE_PNG_COMPRESSION])"
   ]
  },
  {
   "cell_type": "markdown",
   "metadata": {},
   "source": [
    "## 3. Image color spaces"
   ]
  },
  {
   "cell_type": "markdown",
   "metadata": {},
   "source": [
    "- Trong thị giác máy tính và xử lí ảnh, **không gian màu (color spaces)** refer đến một cách cụ thể tổ chức, phối hợp mày sắc.\n",
    "- Một không gian màu (color space) được tạo nên nhờ combination của 2 phần:\n",
    "    + Color model.\n",
    "    + Mapping function.\n",
    "- Lý do chúng ta đưa ra sử dụng **Color model** là vì nó giúp cho chúng ta thuận tiện trong việc biểu diễn giá trị của các pixel sử dụng tuples.\n",
    "- Mapping function ánh xạ the color model đến tập hợp tất cả các màu có thể được biểu diễn."
   ]
  },
  {
   "cell_type": "markdown",
   "metadata": {},
   "source": [
    "![RGB - Color Space](images/bai01/images/RGB-HSV.png)"
   ]
  },
  {
   "cell_type": "markdown",
   "metadata": {},
   "source": [
    "- Có rất nhiều không gian màu được sử dụng. Mỗi một không gian màu có một điểm mạnh riêng. Tùy thuộc vào bài toán mà ta chọn color space cho phù hợp.\n",
    "- Các không gian màu thường dùng nhiều nhất là: RGB, YUV, HSV.\n",
    "    + **RGB**: Là không gian màu sử dụng nhiều nhất trong nhiều nhất, dựa trên ba màu cơ bản Red, Green, Blue. Trong không gian màu này, mỗi màu được biểu diễn dưới dạng kết hợp có trọng số của đỏ, lục và lam. Vì vậy, mỗi giá trị pixel được biểu diễn dưới dạng một bộ ba số tương ứng với màu đỏ, xanh lá cây và xanh dương. Mỗi giá trị nằm trong khoảng từ 0 đến 255.\n",
    "    + **YUV**:Mặc dù RGB tốt cho nhiều mục đích, nhưng nó có xu hướng rất hạn chế đối với nhiều ứng dụng thực tế. Mọi người bắt đầu nghĩ về các phương pháp khác nhau để tách thông tin cường độ khỏi thông tin màu sắc. Do đó, họ đã đưa ra không gian màu YUV. Y đề cập đến độ chói hoặc cường độ và các kênh U / V đại diện cho thông tin màu. Điều này hoạt động tốt trong nhiều ứng dụng vì hệ thống thị giác của con người cảm nhận thông tin cường độ rất khác với thông tin màu sắc."
   ]
  },
  {
   "cell_type": "markdown",
   "metadata": {},
   "source": [
    "### 3.1 Converting color spaces"
   ]
  },
  {
   "cell_type": "markdown",
   "metadata": {},
   "source": [
    "- Xem xét tất cả các không gian màu, có hơn 190 tùy chọn chuyển đổi có sẵn trong OpenCV. Ta dùng đoạn code sau để xem danh sách tất cả các tùy chọn có sẵn:"
   ]
  },
  {
   "cell_type": "code",
   "execution_count": 5,
   "metadata": {},
   "outputs": [
    {
     "name": "stdout",
     "output_type": "stream",
     "text": [
      "['COLOR_BAYER_BG2BGR', 'COLOR_BAYER_BG2BGRA', 'COLOR_BAYER_BG2BGR_EA', 'COLOR_BAYER_BG2BGR_VNG', 'COLOR_BAYER_BG2GRAY', 'COLOR_BAYER_BG2RGB', 'COLOR_BAYER_BG2RGBA', 'COLOR_BAYER_BG2RGB_EA', 'COLOR_BAYER_BG2RGB_VNG', 'COLOR_BAYER_GB2BGR', 'COLOR_BAYER_GB2BGRA', 'COLOR_BAYER_GB2BGR_EA', 'COLOR_BAYER_GB2BGR_VNG', 'COLOR_BAYER_GB2GRAY', 'COLOR_BAYER_GB2RGB', 'COLOR_BAYER_GB2RGBA', 'COLOR_BAYER_GB2RGB_EA', 'COLOR_BAYER_GB2RGB_VNG', 'COLOR_BAYER_GR2BGR', 'COLOR_BAYER_GR2BGRA', 'COLOR_BAYER_GR2BGR_EA', 'COLOR_BAYER_GR2BGR_VNG', 'COLOR_BAYER_GR2GRAY', 'COLOR_BAYER_GR2RGB', 'COLOR_BAYER_GR2RGBA', 'COLOR_BAYER_GR2RGB_EA', 'COLOR_BAYER_GR2RGB_VNG', 'COLOR_BAYER_RG2BGR', 'COLOR_BAYER_RG2BGRA', 'COLOR_BAYER_RG2BGR_EA', 'COLOR_BAYER_RG2BGR_VNG', 'COLOR_BAYER_RG2GRAY', 'COLOR_BAYER_RG2RGB', 'COLOR_BAYER_RG2RGBA', 'COLOR_BAYER_RG2RGB_EA', 'COLOR_BAYER_RG2RGB_VNG', 'COLOR_BGR2BGR555', 'COLOR_BGR2BGR565', 'COLOR_BGR2BGRA', 'COLOR_BGR2GRAY', 'COLOR_BGR2HLS', 'COLOR_BGR2HLS_FULL', 'COLOR_BGR2HSV', 'COLOR_BGR2HSV_FULL', 'COLOR_BGR2LAB', 'COLOR_BGR2LUV', 'COLOR_BGR2Lab', 'COLOR_BGR2Luv', 'COLOR_BGR2RGB', 'COLOR_BGR2RGBA', 'COLOR_BGR2XYZ', 'COLOR_BGR2YCR_CB', 'COLOR_BGR2YCrCb', 'COLOR_BGR2YUV', 'COLOR_BGR2YUV_I420', 'COLOR_BGR2YUV_IYUV', 'COLOR_BGR2YUV_YV12', 'COLOR_BGR5552BGR', 'COLOR_BGR5552BGRA', 'COLOR_BGR5552GRAY', 'COLOR_BGR5552RGB', 'COLOR_BGR5552RGBA', 'COLOR_BGR5652BGR', 'COLOR_BGR5652BGRA', 'COLOR_BGR5652GRAY', 'COLOR_BGR5652RGB', 'COLOR_BGR5652RGBA', 'COLOR_BGRA2BGR', 'COLOR_BGRA2BGR555', 'COLOR_BGRA2BGR565', 'COLOR_BGRA2GRAY', 'COLOR_BGRA2RGB', 'COLOR_BGRA2RGBA', 'COLOR_BGRA2YUV_I420', 'COLOR_BGRA2YUV_IYUV', 'COLOR_BGRA2YUV_YV12', 'COLOR_BayerBG2BGR', 'COLOR_BayerBG2BGRA', 'COLOR_BayerBG2BGR_EA', 'COLOR_BayerBG2BGR_VNG', 'COLOR_BayerBG2GRAY', 'COLOR_BayerBG2RGB', 'COLOR_BayerBG2RGBA', 'COLOR_BayerBG2RGB_EA', 'COLOR_BayerBG2RGB_VNG', 'COLOR_BayerGB2BGR', 'COLOR_BayerGB2BGRA', 'COLOR_BayerGB2BGR_EA', 'COLOR_BayerGB2BGR_VNG', 'COLOR_BayerGB2GRAY', 'COLOR_BayerGB2RGB', 'COLOR_BayerGB2RGBA', 'COLOR_BayerGB2RGB_EA', 'COLOR_BayerGB2RGB_VNG', 'COLOR_BayerGR2BGR', 'COLOR_BayerGR2BGRA', 'COLOR_BayerGR2BGR_EA', 'COLOR_BayerGR2BGR_VNG', 'COLOR_BayerGR2GRAY', 'COLOR_BayerGR2RGB', 'COLOR_BayerGR2RGBA', 'COLOR_BayerGR2RGB_EA', 'COLOR_BayerGR2RGB_VNG', 'COLOR_BayerRG2BGR', 'COLOR_BayerRG2BGRA', 'COLOR_BayerRG2BGR_EA', 'COLOR_BayerRG2BGR_VNG', 'COLOR_BayerRG2GRAY', 'COLOR_BayerRG2RGB', 'COLOR_BayerRG2RGBA', 'COLOR_BayerRG2RGB_EA', 'COLOR_BayerRG2RGB_VNG', 'COLOR_COLORCVT_MAX', 'COLOR_GRAY2BGR', 'COLOR_GRAY2BGR555', 'COLOR_GRAY2BGR565', 'COLOR_GRAY2BGRA', 'COLOR_GRAY2RGB', 'COLOR_GRAY2RGBA', 'COLOR_HLS2BGR', 'COLOR_HLS2BGR_FULL', 'COLOR_HLS2RGB', 'COLOR_HLS2RGB_FULL', 'COLOR_HSV2BGR', 'COLOR_HSV2BGR_FULL', 'COLOR_HSV2RGB', 'COLOR_HSV2RGB_FULL', 'COLOR_LAB2BGR', 'COLOR_LAB2LBGR', 'COLOR_LAB2LRGB', 'COLOR_LAB2RGB', 'COLOR_LBGR2LAB', 'COLOR_LBGR2LUV', 'COLOR_LBGR2Lab', 'COLOR_LBGR2Luv', 'COLOR_LRGB2LAB', 'COLOR_LRGB2LUV', 'COLOR_LRGB2Lab', 'COLOR_LRGB2Luv', 'COLOR_LUV2BGR', 'COLOR_LUV2LBGR', 'COLOR_LUV2LRGB', 'COLOR_LUV2RGB', 'COLOR_Lab2BGR', 'COLOR_Lab2LBGR', 'COLOR_Lab2LRGB', 'COLOR_Lab2RGB', 'COLOR_Luv2BGR', 'COLOR_Luv2LBGR', 'COLOR_Luv2LRGB', 'COLOR_Luv2RGB', 'COLOR_M_RGBA2RGBA', 'COLOR_RGB2BGR', 'COLOR_RGB2BGR555', 'COLOR_RGB2BGR565', 'COLOR_RGB2BGRA', 'COLOR_RGB2GRAY', 'COLOR_RGB2HLS', 'COLOR_RGB2HLS_FULL', 'COLOR_RGB2HSV', 'COLOR_RGB2HSV_FULL', 'COLOR_RGB2LAB', 'COLOR_RGB2LUV', 'COLOR_RGB2Lab', 'COLOR_RGB2Luv', 'COLOR_RGB2RGBA', 'COLOR_RGB2XYZ', 'COLOR_RGB2YCR_CB', 'COLOR_RGB2YCrCb', 'COLOR_RGB2YUV', 'COLOR_RGB2YUV_I420', 'COLOR_RGB2YUV_IYUV', 'COLOR_RGB2YUV_YV12', 'COLOR_RGBA2BGR', 'COLOR_RGBA2BGR555', 'COLOR_RGBA2BGR565', 'COLOR_RGBA2BGRA', 'COLOR_RGBA2GRAY', 'COLOR_RGBA2M_RGBA', 'COLOR_RGBA2RGB', 'COLOR_RGBA2YUV_I420', 'COLOR_RGBA2YUV_IYUV', 'COLOR_RGBA2YUV_YV12', 'COLOR_RGBA2mRGBA', 'COLOR_XYZ2BGR', 'COLOR_XYZ2RGB', 'COLOR_YCR_CB2BGR', 'COLOR_YCR_CB2RGB', 'COLOR_YCrCb2BGR', 'COLOR_YCrCb2RGB', 'COLOR_YUV2BGR', 'COLOR_YUV2BGRA_I420', 'COLOR_YUV2BGRA_IYUV', 'COLOR_YUV2BGRA_NV12', 'COLOR_YUV2BGRA_NV21', 'COLOR_YUV2BGRA_UYNV', 'COLOR_YUV2BGRA_UYVY', 'COLOR_YUV2BGRA_Y422', 'COLOR_YUV2BGRA_YUNV', 'COLOR_YUV2BGRA_YUY2', 'COLOR_YUV2BGRA_YUYV', 'COLOR_YUV2BGRA_YV12', 'COLOR_YUV2BGRA_YVYU', 'COLOR_YUV2BGR_I420', 'COLOR_YUV2BGR_IYUV', 'COLOR_YUV2BGR_NV12', 'COLOR_YUV2BGR_NV21', 'COLOR_YUV2BGR_UYNV', 'COLOR_YUV2BGR_UYVY', 'COLOR_YUV2BGR_Y422', 'COLOR_YUV2BGR_YUNV', 'COLOR_YUV2BGR_YUY2', 'COLOR_YUV2BGR_YUYV', 'COLOR_YUV2BGR_YV12', 'COLOR_YUV2BGR_YVYU', 'COLOR_YUV2GRAY_420', 'COLOR_YUV2GRAY_I420', 'COLOR_YUV2GRAY_IYUV', 'COLOR_YUV2GRAY_NV12', 'COLOR_YUV2GRAY_NV21', 'COLOR_YUV2GRAY_UYNV', 'COLOR_YUV2GRAY_UYVY', 'COLOR_YUV2GRAY_Y422', 'COLOR_YUV2GRAY_YUNV', 'COLOR_YUV2GRAY_YUY2', 'COLOR_YUV2GRAY_YUYV', 'COLOR_YUV2GRAY_YV12', 'COLOR_YUV2GRAY_YVYU', 'COLOR_YUV2RGB', 'COLOR_YUV2RGBA_I420', 'COLOR_YUV2RGBA_IYUV', 'COLOR_YUV2RGBA_NV12', 'COLOR_YUV2RGBA_NV21', 'COLOR_YUV2RGBA_UYNV', 'COLOR_YUV2RGBA_UYVY', 'COLOR_YUV2RGBA_Y422', 'COLOR_YUV2RGBA_YUNV', 'COLOR_YUV2RGBA_YUY2', 'COLOR_YUV2RGBA_YUYV', 'COLOR_YUV2RGBA_YV12', 'COLOR_YUV2RGBA_YVYU', 'COLOR_YUV2RGB_I420', 'COLOR_YUV2RGB_IYUV', 'COLOR_YUV2RGB_NV12', 'COLOR_YUV2RGB_NV21', 'COLOR_YUV2RGB_UYNV', 'COLOR_YUV2RGB_UYVY', 'COLOR_YUV2RGB_Y422', 'COLOR_YUV2RGB_YUNV', 'COLOR_YUV2RGB_YUY2', 'COLOR_YUV2RGB_YUYV', 'COLOR_YUV2RGB_YV12', 'COLOR_YUV2RGB_YVYU', 'COLOR_YUV420P2BGR', 'COLOR_YUV420P2BGRA', 'COLOR_YUV420P2GRAY', 'COLOR_YUV420P2RGB', 'COLOR_YUV420P2RGBA', 'COLOR_YUV420SP2BGR', 'COLOR_YUV420SP2BGRA', 'COLOR_YUV420SP2GRAY', 'COLOR_YUV420SP2RGB', 'COLOR_YUV420SP2RGBA', 'COLOR_YUV420p2BGR', 'COLOR_YUV420p2BGRA', 'COLOR_YUV420p2GRAY', 'COLOR_YUV420p2RGB', 'COLOR_YUV420p2RGBA', 'COLOR_YUV420sp2BGR', 'COLOR_YUV420sp2BGRA', 'COLOR_YUV420sp2GRAY', 'COLOR_YUV420sp2RGB', 'COLOR_YUV420sp2RGBA', 'COLOR_mRGBA2RGBA']\n",
      "274\n"
     ]
    }
   ],
   "source": [
    "import cv2\n",
    "color_space_list = [x for x in dir(cv2) if x.startswith(\"COLOR_\")]\n",
    "print(color_space_list)\n",
    "print(len(color_space_list))"
   ]
  },
  {
   "cell_type": "markdown",
   "metadata": {},
   "source": [
    "- Ta thấy một danh sách các tùy chọn có sẵn trong OpenCV để chuyển đổi từ một không gian màu sang khác. Chúng ta có thể chuyển đổi khá nhiều không gian màu sang bất kỳ không gian màu nào khác. Hãy xem cách chúng ta có thể chuyển đổi một hình ảnh màu thành một hình ảnh thang độ xám:"
   ]
  },
  {
   "cell_type": "code",
   "execution_count": 6,
   "metadata": {},
   "outputs": [],
   "source": [
    "import cv2\n",
    "img = cv2.imread(\"input\\input.jpg\", cv2.IMREAD_COLOR)\n",
    "gray_img = cv2.cvtColor(img, cv2.COLOR_RGB2GRAY)\n",
    "cv2.imshow(\"Grayscale image\", gray_img)\n",
    "cv2.waitKey(0)\n",
    "cv2.destroyAllWindows()"
   ]
  },
  {
   "cell_type": "markdown",
   "metadata": {},
   "source": [
    "- **Nhận xét**: \n",
    "    - Chúng ta sử dụng hàm **cvtColor()** để chuyển đổi không gian màu.\n",
    "    - Đối số đầu tiên là hình ảnh mà ta muốn chuyển đổi và đối số thứ hai chỉ định không gian đich trong việc chuyển đổi."
   ]
  },
  {
   "cell_type": "markdown",
   "metadata": {},
   "source": [
    "### 3.2 Splitting image channels (chia kênh hình ảnh)"
   ]
  },
  {
   "cell_type": "markdown",
   "metadata": {},
   "source": [
    "- Ta có thể chuyển đổi sang YUV bằng cách sử dụng option sau:"
   ]
  },
  {
   "cell_type": "code",
   "execution_count": 7,
   "metadata": {},
   "outputs": [],
   "source": [
    "import cv2\n",
    "img = cv2.imread(\"input\\input.jpg\", cv2.IMREAD_COLOR)\n",
    "yuv_img = cv2.cvtColor(img, cv2.COLOR_BGR2YUV)\n",
    "cv2.imshow(\"YUV imag\", yuv_img)\n",
    "cv2.waitKey(0)\n",
    "cv2.destroyAllWindows()"
   ]
  },
  {
   "cell_type": "markdown",
   "metadata": {},
   "source": [
    "Điều này có thể trông giống như một phiên bản xấu hơn của hình ảnh gốc, nhưng thực tế không phải vậy. Chúng ta hãy tách ra\n",
    "trong ba kênh:"
   ]
  },
  {
   "cell_type": "code",
   "execution_count": 8,
   "metadata": {},
   "outputs": [],
   "source": [
    "import cv2\n",
    "img = cv2.imread(\"input\\input.jpg\", cv2.IMREAD_COLOR)\n",
    "yuv_img = cv2.cvtColor(img, cv2.COLOR_BGR2YUV)\n",
    "y,u,v = cv2.split(yuv_img)\n",
    "cv2.imshow('Y channel', y)\n",
    "cv2.imshow('U channel', u)\n",
    "cv2.imshow('V channel', v)\n",
    "cv2.waitKey()\n",
    "cv2.destroyAllWindows()"
   ]
  },
  {
   "cell_type": "code",
   "execution_count": 9,
   "metadata": {},
   "outputs": [],
   "source": [
    "# Alternative 2 (Faster)\n",
    "# cv2.imshow('Y channel', yuv_img[:, :, 0])\n",
    "# cv2.imshow('U channel', yuv_img[:, :, 1])\n",
    "# cv2.imshow('V channel', yuv_img[:, :, 2])\n",
    "# cv2.waitKey()"
   ]
  },
  {
   "cell_type": "markdown",
   "metadata": {},
   "source": [
    "- Vì **yuv_img** là một đối tượng ndarray (cung cấp các toán tử chọn thứ nguyên), chúng ta có thể tách ra ba kênh bằng cách cắt nó. \n",
    "- Nếu xem **yuv_img.shape**, ta thấy rằng nó là một mảng 3D. "
   ]
  },
  {
   "cell_type": "code",
   "execution_count": 10,
   "metadata": {},
   "outputs": [
    {
     "data": {
      "text/plain": [
       "(194, 259, 3)"
      ]
     },
     "execution_count": 10,
     "metadata": {},
     "output_type": "execute_result"
    }
   ],
   "source": [
    "yuv_img.shape"
   ]
  },
  {
   "cell_type": "markdown",
   "metadata": {},
   "source": [
    "- Vì vậy, một khi  chạy đoạn code trước, ta sẽ thấy ba hình ảnh khác nhau tương ứng với 3 kênh."
   ]
  },
  {
   "cell_type": "markdown",
   "metadata": {},
   "source": [
    "## 3.3 Merging image channels"
   ]
  },
  {
   "cell_type": "markdown",
   "metadata": {},
   "source": [
    "- Bây giờ chúng ta sẽ đọc một hình ảnh, chia nó thành các kênh riêng biệt và hợp nhất chúng để xem làm thế nào các hiệu ứng khác nhau có thể thu được từ các kết hợp khác nhau:"
   ]
  },
  {
   "cell_type": "code",
   "execution_count": 11,
   "metadata": {},
   "outputs": [],
   "source": [
    "import cv2\n",
    "img = cv2.imread(\"input\\input.jpg\", cv2.IMREAD_COLOR)\n",
    "g, b, r = cv2.split(img)\n",
    "gbr_img = cv2.merge((g,b,r))\n",
    "rbr_img = cv2.merge((r,b,r))\n",
    "cv2.imshow(\"Ogirinal\", img)\n",
    "cv2.imshow(\"GBR\", gbr_img)\n",
    "cv2.imshow(\"RBR\",rbr_img)\n",
    "cv2.waitKey(0)\n",
    "cv2.destroyAllWindows()"
   ]
  },
  {
   "cell_type": "markdown",
   "metadata": {},
   "source": [
    "- Điều này sẽ cung cấp cho bạn một ý tưởng cơ bản về cách chuyển đổi giữa các không gian màu. Bạn có thể chơi xung quanh với nhiều không gian màu hơn để xem hình ảnh trông như thế nào."
   ]
  },
  {
   "cell_type": "markdown",
   "metadata": {},
   "source": [
    "## 4. Image Translation"
   ]
  },
  {
   "cell_type": "markdown",
   "metadata": {},
   "source": [
    "- Trong phần này, chúng tôi sẽ thảo luận về việc thay đổi một hình ảnh. Ta muốn di chuyển hình ảnh trong khung tham chiếu của chúng ta. \n",
    "- Trong thuật ngữ thị giác máy tính (computer vision terminology), điều này được gọi là **translation**."
   ]
  },
  {
   "cell_type": "code",
   "execution_count": 12,
   "metadata": {},
   "outputs": [],
   "source": []
  },
  {
   "cell_type": "markdown",
   "metadata": {},
   "source": [
    "- Để hiểu đoạn code ở trên, chúng ta cần hiểu cách hoạt động của warping. Translation có nghĩa là chúng ta đang dịch chuyển hình ảnh bằng cách thêm bớt tọa độ x và y. Để thực hiện điều này, chúng ta cần tạo một ma trận biến đổi, như sau:\n",
    "### $$\n",
    "  M=\n",
    "  \\left[ {\\begin{array}{cc}\n",
    "   1 & 0 & t_x\\\\\n",
    "   0 & 1 & t_y\\\\\n",
    "  \\end{array} } \\right]\n",
    "$$"
   ]
  },
  {
   "cell_type": "markdown",
   "metadata": {},
   "source": [
    "- Ở đây, giá trị $t_x$ và $t_y$ là giá trị dịch $x$ và $y$.\n",
    "- Đó là hình ảnh sẽ được di chuyển theo **x đơn vị ở bên phải và theo đơn vị y trở xuống**.\n",
    "- Vì vậy, một khi chúng ta tạo ra một ma trận như thế này, chúng ta có thể sử dụng hàm, **warpAffine**, để áp dụng nó cho hình ảnh.\n",
    "- **Đối số thứ ba trong warpAffine đề cập đến số lượng hàng và cột trong hình ảnh kết quả**.Theo sau đó là cv2.INTER_POLATION thể hiện biến đổi nhờ phương pháp nội suy."
   ]
  },
  {
   "cell_type": "markdown",
   "metadata": {},
   "source": [
    "- Vì số lượng hàng và cột giống với hình ảnh gốc, kết quả là hình ảnh sẽ được cắt.\n",
    "- Lý do cho điều này là chúng ta không có đủ không gian trong đầu ra khi chúng ta áp dụng phép translation ma trận. \n",
    "- Để tránh cắt xén, chúng ta có thể làm một cái gì đó tương tự như sau:"
   ]
  },
  {
   "cell_type": "code",
   "execution_count": 13,
   "metadata": {},
   "outputs": [],
   "source": [
    "import cv2\n",
    "import numpy as np\n",
    "img = cv2.imread('input/input.jpg')\n",
    "num_rows, num_cols = img.shape[:2]\n",
    "translation_matrix = np.float32([ [1,0,70], [0,1,110] ])\n",
    "img_translation = cv2.warpAffine(img, translation_matrix, (num_cols + 70, num_rows + 110))\n",
    "cv2.imshow('Translation', img_translation)\n",
    "cv2.waitKey()\n",
    "cv2.destroyAllWindows()"
   ]
  },
  {
   "cell_type": "markdown",
   "metadata": {},
   "source": [
    "- Giả sử bạn muốn di chuyển hình ảnh vào giữa khung hình lớn hơn; chúng tôi có thể làm một cái gì đó như thế này bằng cách thực hiện như sau:"
   ]
  },
  {
   "cell_type": "code",
   "execution_count": 14,
   "metadata": {},
   "outputs": [],
   "source": [
    "import cv2\n",
    "import numpy as np\n",
    "img = cv2.imread('input/input.jpg')\n",
    "num_rows, num_cols = img.shape[:2]\n",
    "translation_matrix = np.float32([ [1,0,70], [0,1,110] ])\n",
    "img_translation = cv2.warpAffine(img, translation_matrix, (num_cols + 70, num_rows + 110))\n",
    "translation_matrix = np.float32([ [1,0,-30], [0,1,-50] ])\n",
    "img_translation = cv2.warpAffine(img_translation, translation_matrix, (num_cols + 70 + 30, num_rows + 110 + 50))\n",
    "cv2.imshow('Translation', img_translation)\n",
    "cv2.waitKey()\n",
    "cv2.destroyAllWindows()"
   ]
  },
  {
   "cell_type": "markdown",
   "metadata": {},
   "source": [
    "- Hơn nữa, có thêm hai đối số, **BorderMode** và **BorderValue**, cho phép bạn để lấp đầy các viền trống của bản dịch bằng phương pháp ngoại suy pixel:"
   ]
  },
  {
   "cell_type": "code",
   "execution_count": 15,
   "metadata": {},
   "outputs": [],
   "source": [
    "import cv2\n",
    "import numpy as np\n",
    "img = cv2.imread('input/input.jpg')\n",
    "num_rows, num_cols = img.shape[:2]\n",
    "translation_matrix = np.float32([ [1,0,70], [0,1,110] ])\n",
    "img_translation = cv2.warpAffine(img, translation_matrix, (num_cols, num_rows), cv2.INTER_LINEAR, cv2.BORDER_WRAP, 1)\n",
    "cv2.imshow('Translation', img_translation)\n",
    "cv2.waitKey()\n",
    "cv2.destroyAllWindows()"
   ]
  },
  {
   "cell_type": "markdown",
   "metadata": {},
   "source": [
    "## 5. Image Rotation"
   ]
  },
  {
   "cell_type": "markdown",
   "metadata": {},
   "source": [
    "Trong phần này, chúng ta sẽ xem cách **xoay một hình ảnh nhất định theo một góc nhất định**. Chúng ta có thể làm được\n",
    "sử dụng đoạn mã sau:"
   ]
  },
  {
   "cell_type": "code",
   "execution_count": 16,
   "metadata": {},
   "outputs": [],
   "source": [
    "import cv2\n",
    "import numpy as np\n",
    "img = cv2.imread('input/input.jpg')\n",
    "num_rows, num_cols = img.shape[:2]\n",
    "rotation_matrix = cv2.getRotationMatrix2D((num_cols/2, num_rows/2), -40, 0.3)\n",
    "img_rotation = cv2.warpAffine(img, rotation_matrix, (num_cols, num_rows))\n",
    "cv2.imshow('Rotation', img_rotation)\n",
    "cv2.waitKey()\n",
    "cv2.destroyAllWindows()"
   ]
  },
  {
   "cell_type": "markdown",
   "metadata": {},
   "source": [
    "- Sử dụng **getRotationMatrix2D**, chúng ta có thể chỉ định điểm trung tâm của phép quay hình ảnh sẽ được xoay làm đối số đầu tiên, sau đó là góc xoay theo độ và hệ số tỷ lệ cho hình ảnh ở cuối. Chúng ta sử dụng $0,7$ nhằm thu nhỏ hình ảnh $30\\%$ để phù hợp với khung hình."
   ]
  },
  {
   "cell_type": "markdown",
   "metadata": {},
   "source": [
    "- Để hiểu điều này, chúng ta hãy xem cách chúng ta xử lý xoay vòng theo toán học.\n",
    "- **Xoay là cũng là một dạng biến đổi và chúng ta có thể đạt được nó bằng cách sử dụng phép biến đổi sau ma trận**:"
   ]
  },
  {
   "cell_type": "markdown",
   "metadata": {},
   "source": [
    "### $$\n",
    "  R=\n",
    "  \\left[ {\\begin{array}{cc}\n",
    "   \\cos \\theta & -\\sin \\theta \\\\\n",
    "   \\sin \\theta & \\cos \\theta \\\\\n",
    "  \\end{array} } \\right]\n",
    "$$"
   ]
  },
  {
   "cell_type": "markdown",
   "metadata": {},
   "source": [
    "- Ở đây, $\\theta$ là góc quay theo hướng ngược chiều kim đồng hồ.\n",
    "- OpenCV cung cấp tốt hơn kiểm soát việc tạo ma trận này thông qua hàm getRotationMatrix2D.\n",
    "- Chúng ta có thể chỉ định điểm xung quanh hình ảnh sẽ được quay, góc quay, và một yếu tố tỷ lệ cho hình ảnh.\n",
    "- Khi chúng ta có ma trận biến đổi, chúng ta có thể sử dụng hàm **warpAffine** để áp dụng ma trận này cho bất kỳ hình ảnh nào."
   ]
  },
  {
   "cell_type": "markdown",
   "metadata": {},
   "source": [
    "- Như chúng ta có thể thấy output của đoạn chương trình trên, nội dung hình ảnh vượt ra ngoài giới hạn và được cắt xén. Để ngăn chặn điều này, chúng tôi cần cung cấp đủ không gian trong hình ảnh đầu ra. Áp dụng các phép biến đổi hình học cho hình ảnh.\n",
    "- Hãy tiếp tục và làm điều đó bằng cách sử dụng các hàm translations mà chúng ta đã thảo luận trước đó:"
   ]
  },
  {
   "cell_type": "code",
   "execution_count": 17,
   "metadata": {},
   "outputs": [],
   "source": [
    "import cv2\n",
    "import numpy as np\n",
    "img = cv2.imread('input/input.jpg')\n",
    "num_rows, num_cols = img.shape[:2]\n",
    "translation_matrix = np.float32([ [1,0,int(0.5*num_cols)], [0,1,int(0.5*num_rows)]])\n",
    "rotation_matrix = cv2.getRotationMatrix2D((num_cols, num_rows), 30, 1)\n",
    "img_translation = cv2.warpAffine(img, translation_matrix, (2*num_cols, 2*num_rows))\n",
    "img_rotation = cv2.warpAffine(img_translation, rotation_matrix, (num_cols*2, num_rows*2))\n",
    "cv2.imshow('Rotation', img_rotation)\n",
    "cv2.waitKey()\n",
    "cv2.destroyAllWindows()"
   ]
  },
  {
   "cell_type": "markdown",
   "metadata": {},
   "source": [
    "## 6. Image scaling"
   ]
  },
  {
   "cell_type": "markdown",
   "metadata": {},
   "source": [
    "- Trong phần này, chúng ta sẽ thảo luận về việc thay đổi kích thước (resize) một hình ảnh.\n",
    "- Đây là một trong những phép toán phổ biến trong thị giác máy tính. \n",
    "- Chúng tôi có thể thay đổi kích thước hình ảnh bằng cách sử dụng hệ số tỷ lệ hoặc chúng tôi có thể thay đổi kích thước hình ảnh thành một kích thước cụ thể."
   ]
  },
  {
   "cell_type": "code",
   "execution_count": 1,
   "metadata": {},
   "outputs": [],
   "source": [
    "import cv2\n",
    "img = cv2.imread('input/input.jpg')\n",
    "img_scaled = cv2.resize(img,None,fx=1.2, fy=1.2, interpolation =cv2.INTER_LINEAR)\n",
    "cv2.imshow('Scaling - Linear Interpolation', img_scaled)\n",
    "img_scaled = cv2.resize(img,None,fx=1.2, fy=1.2, interpolation = cv2.INTER_CUBIC)\n",
    "cv2.imshow('Scaling - Cubic Interpolation', img_scaled)\n",
    "img_scaled = cv2.resize(img,(450, 400), interpolation = cv2.INTER_AREA)\n",
    "cv2.imshow('Scaling - Skewed Size', img_scaled)\n",
    "cv2.imwrite(\"output\\RGB.png\",img_scaled)\n",
    "cv2.waitKey()\n",
    "cv2.destroyAllWindows()"
   ]
  },
  {
   "cell_type": "markdown",
   "metadata": {},
   "source": [
    "- Bất cứ khi nào chúng ta thay đổi kích thước hình ảnh, có nhiều cách để điền vào các giá trị pixel. \n",
    "- Khi chúng ta phóng to một hình ảnh, chúng ta cần điền vào các giá trị pixel ở giữa các vị trí pixel. \n",
    "- Khi chúng ta thu nhỏ một hình ảnh, chúng tôi cần lấy giá trị đại diện tốt nhất.\n",
    "- Khi chúng ta chia tỷ lệ theo một giá trị không nguyên, chúng ta cần nội suy các giá trị một cách thích hợp, sao cho chất lượng của hình ảnh được duy trì. Có nhiều cách để thực hiện phép nội suy.\n",
    "- Nếu chúng ta phóng to một hình ảnh, tốt hơn là sử dụng phép nội suy tuyến tính hoặc khối. \n",
    "- Nếu chúng ta đang thu hẹp một hình ảnh, tốt hơn là sử dụng phép **nội suy dựa trên khu vực**. **Nội suy hình khối** được tính toán phức tạp hơn, và do đó chậm hơn so với **nội suy tuyến tính**. Tuy nhiên, chất lượng của kết quả hình ảnh sẽ cao hơn."
   ]
  },
  {
   "cell_type": "markdown",
   "metadata": {},
   "source": [
    "- `OpenCV` cung cấp một hàm gọi là thay đổi kích thước để đạt được tỷ lệ hình ảnh. \n",
    "- Trong ví dụ của trên, hình ảnh sẽ được mở rộng theo hệ số 1,2. \n",
    "- Nếu chúng ta thực hiện cùng một phóng to bằng phép nội suy bậc ba, chúng ta có thể thấy rằng chất lượng được cải thiện."
   ]
  },
  {
   "cell_type": "markdown",
   "metadata": {},
   "source": [
    "## 7. Affine transformations"
   ]
  },
  {
   "cell_type": "markdown",
   "metadata": {},
   "source": [
    "- Trong phần này, chúng ta sẽ thảo luận về các phép biến đổi hình học tổng quát khác nhau của 2D hình ảnh.\n",
    "- Chúng ta đã sử dụng hàm **warpAffine** một vài chỗ lúc trước, đó là khoảng thời gian chúng tôi hiểu những gì đang xảy ra bên dưới."
   ]
  },
  {
   "cell_type": "markdown",
   "metadata": {},
   "source": [
    "- Trước khi nói về các phép biến đổi affine, chúng ta hãy tìm hiểu các **phép biến đổi Euclide là gì**. \n",
    "- Các phép biến đổi Euclide là một dạng biến đổi hình học bảo toàn độ dài và góc.\n",
    "- Nếu chúng ta có một hình dạng hình học và áp dụng biến đổi Euclide cho nó, hình dạng sẽ không thay đổi.\n",
    "- Nó có thể xoay, thay đổi, và như vậy, nhưng cơ bản cấu trúc sẽ không thay đổi.\n",
    "- Vì vậy, về mặt kỹ thuật, các dòng sẽ vẫn là các dòng, các mặt phẳng sẽ vẫn là các mặt phẳng, hình vuông sẽ vẫn là hình vuông, và hình tròn sẽ vẫn là hình tròn."
   ]
  },
  {
   "cell_type": "markdown",
   "metadata": {},
   "source": [
    "![Euclid Tranform](https://upload.wikimedia.org/wikipedia/commons/thumb/8/87/Rotation_illustration2.svg/1200px-Rotation_illustration2.svg.png)"
   ]
  },
  {
   "cell_type": "markdown",
   "metadata": {},
   "source": [
    "- Quay trở lại với các phép biến đổi affine, chúng ta có thể nói rằng chúng là những khái quát của Biến đổi Euclide. \n",
    "- Dưới sự đa dạng của các phép biến đổi affine, các dòng sẽ vẫn còn các đường, nhưng hình vuông có thể trở thành hình chữ nhật hoặc hình bình hành. Về cơ bản, **affine biến đổi không bảo tồn độ dài và góc**."
   ]
  },
  {
   "cell_type": "markdown",
   "metadata": {},
   "source": [
    "- Để xây dựng một ma trận biến đổi affine chung, chúng ta cần xác định điều khiển điểm. Khi chúng ta có các điểm kiểm soát này, chúng ta cần quyết định nơi chúng ta muốn chúng ánh xạ. Trong tình huống cụ thể này, tất cả những gì chúng ta cần là ba điểm trong hình ảnh nguồn và ba điểm trong hình ảnh đầu ra. Chúng ta hãy xem làm thế nào chúng ta có thể chuyển đổi một hình ảnh thành một hình ảnh giống như hình bình hành:"
   ]
  },
  {
   "cell_type": "code",
   "execution_count": 19,
   "metadata": {},
   "outputs": [],
   "source": [
    "import cv2\n",
    "import numpy as np\n",
    "img = cv2.imread('input/input.jpg')\n",
    "rows, cols = img.shape[:2]\n",
    "src_points = np.float32([[0,0], [cols-1,0], [0,rows-1]])\n",
    "dst_points = np.float32([[0,0], [int(0.6*(cols-1)),0], [int(0.4*(cols-1)),rows-1]])\n",
    "affine_matrix = cv2.getAffineTransform(src_points, dst_points)\n",
    "img_output = cv2.warpAffine(img, affine_matrix, (cols,rows))\n",
    "cv2.imshow('Input', img)\n",
    "cv2.imshow('Output', img_output)\n",
    "cv2.waitKey()\n",
    "cv2.destroyAllWindows()"
   ]
  },
  {
   "cell_type": "markdown",
   "metadata": {},
   "source": [
    "- Như chúng ta đã thảo luận trước đó, chúng ta đang xác định các điểm kiểm soát. Chúng ta chỉ cần ba điểm để có được ma trận biến đổi affine. \n",
    "- Chúng ta muốn ba điểm trong **src_point** được ánh xạ (mapping) tới điểm tương ứng trong **dst_point**. Chúng ta đang ánh xạ các điểm như thể hiện dưới đây hình ảnh:"
   ]
  },
  {
   "attachments": {
    "image.png": {
     "image/png": "[encoded data removed]"
    }
   },
   "cell_type": "markdown",
   "metadata": {},
   "source": [
    "![image.png](attachment:image.png)"
   ]
  },
  {
   "cell_type": "markdown",
   "metadata": {},
   "source": [
    "- Để có được ma trận biến đổi, chúng ta có một hàm được gọi trong OpenCV. Khi chúng ta có ma trận biến đổi affine, chúng ta sử dụng hàm để áp dụng ma trận này cho hình ảnh đầu vào."
   ]
  },
  {
   "cell_type": "markdown",
   "metadata": {},
   "source": [
    "- Chúng ta cũng có thể có được hình ảnh phản chiếu của hình ảnh đầu vào. Chúng ta chỉ cần thay đổi điều khiển điểm theo cách sau:"
   ]
  },
  {
   "cell_type": "code",
   "execution_count": 20,
   "metadata": {},
   "outputs": [
    {
     "data": {
      "text/plain": [
       "27"
      ]
     },
     "execution_count": 20,
     "metadata": {},
     "output_type": "execute_result"
    }
   ],
   "source": [
    "import cv2\n",
    "import numpy as np\n",
    "img = cv2.imread('input\\input.jpg')\n",
    "rows, cols = img.shape[:2]\n",
    "src_points = np.float32([[0,0], [cols-1, 0], [0, rows-1]])\n",
    "dst_points = np.float32([[cols-1, 0], [0, 0], [cols-1, rows-1]])\n",
    "affine_matrix = cv2.getAffineTransform(src_points, dst_points)\n",
    "img_output = cv2.warpAffine(img, affine_matrix, (cols,rows))\n",
    "cv2.imshow('Input', img)\n",
    "cv2.imshow('Output', img_output)\n",
    "cv2.waitKey()"
   ]
  },
  {
   "cell_type": "markdown",
   "metadata": {},
   "source": [
    "- Ở đây, ánh xạ trông giống như thế này:"
   ]
  },
  {
   "attachments": {
    "image.png": {
     "image/png": "[encoded data removed]"
    }
   },
   "cell_type": "markdown",
   "metadata": {},
   "source": [
    "![image.png](attachment:image.png)"
   ]
  },
  {
   "cell_type": "markdown",
   "metadata": {},
   "source": [
    "## 8. Projective transformations"
   ]
  },
  {
   "cell_type": "markdown",
   "metadata": {},
   "source": [
    "- Biến đổi affine rất hay, nhưng chúng áp đặt một số hạn chế nhất định. \n",
    "- Một sự chuyển đổi mang tính phóng chiếu, mặt khác, cho chúng ta nhiều tự do hơn.\n",
    "- Để hiểu các phép biến đổi phóng xạ, chúng ta cần hiểu cách hoạt động của hình học chiếu. \n",
    "- Về cơ bản chúng ta mô tả những gì xảy ra với một hình ảnh khi điểm quan sát thay đổi. \n",
    "- Ví dụ, nếu bạn đang đứng ngay trước một tờ giấy có hình vuông được vẽ trên đó, nó sẽ trông giống như một hình vuông."
   ]
  },
  {
   "cell_type": "markdown",
   "metadata": {},
   "source": [
    "- Bây giờ, nếu bạn bắt đầu nghiêng tờ giấy đó, hình vuông sẽ bắt đầu trông ngày càng giống hình thang. Các phép biến đổi phóng xạ cho phép chúng ta nắm bắt được động lực này theo một cách toán học tốt đẹp. \n",
    "- Những biến đổi này không bảo tồn kích thước cũng như góc độ, nhưng chúng không làm thay đổi tỷ lệ và tỷ lệ chéo."
   ]
  },
  {
   "cell_type": "markdown",
   "metadata": {},
   "source": [
    "Đọc thêm về tỷ lệ và tỷ lệ chéo:  \n",
    "- https://en.wikipedia.org/wiki/Incidence_(geometry)\n",
    "-  http://en.wikipedia.org/wiki/Cross-ratio."
   ]
  },
  {
   "cell_type": "markdown",
   "metadata": {},
   "source": [
    "- Bây giờ chúng ta đã biết các phép biến đổi phóng xạ là gì, hãy xem liệu chúng ta có thể trích xuất thêm không thông tin ở đây. Chúng ta có thể nói rằng bất kỳ hai hình ảnh trên một mặt phẳng nhất định đều có liên quan bởi một đồng nhất. \n",
    "- Miễn là chúng ở trong cùng một mặt phẳng, chúng ta có thể biến đổi bất cứ thứ gì thành còn gì nữa không. Điều này có nhiều ứng dụng thực tế như tăng cường thực tế, hình ảnh chỉnh lưu, đăng ký hình ảnh hoặc tính toán chuyển động của camera giữa hai hình ảnh.\n",
    "- Khi xoay và dịch máy ảnh đã được trích xuất từ một ước tính ma trận homography, thông tin này có thể được sử dụng để điều hướng hoặc để chèn các mô hình 3D các đối tượng thành một hình ảnh hoặc video. Bằng cách này, chúng được hiển thị với quan điểm chính xác, và có vẻ như chúng là một phần của bối cảnh ban đầu"
   ]
  },
  {
   "cell_type": "code",
   "execution_count": 21,
   "metadata": {},
   "outputs": [],
   "source": [
    "import cv2\n",
    "import numpy as np\n",
    "img = cv2.imread('input\\input.jpg')\n",
    "rows, cols = img.shape[:2]\n",
    "src_points = np.float32([[0,0], [cols-1,0], [0,rows-1], [cols-1,rows-1]])\n",
    "dst_points = np.float32([[0,0], [cols-1,0], [int(0.33*cols),rows-1], [int(0.66*cols),rows-1]])\n",
    "projective_matrix = cv2.getPerspectiveTransform(src_points, dst_points)\n",
    "img_output = cv2.warpPerspective(img, projective_matrix, (cols,rows))\n",
    "cv2.imshow('Input', img)\n",
    "cv2.imshow('Output', img_output)\n",
    "cv2.waitKey()\n",
    "cv2.destroyAllWindows()"
   ]
  },
  {
   "cell_type": "markdown",
   "metadata": {},
   "source": [
    "- Chúng ta có thể chọn bốn điểm kiểm soát trong hình ảnh nguồn và ánh xạ chúng đến đích hình ảnh. \n",
    "- Các đường song song sẽ không duy trì các đường song song sau khi chuyển đổi.\n",
    "- Chúng ta sử dụng một hàm được gọi là **getPers perspectiveTransform** để lấy ma trận biến đổi."
   ]
  },
  {
   "cell_type": "markdown",
   "metadata": {},
   "source": [
    "- Chúng ta hãy áp dụng một vài hiệu ứng thú vị bằng cách sử dụng phép biến đổi phóng xạ và xem chúng trông như thế nào như. Tất cả những gì chúng ta cần làm là thay đổi các điểm kiểm soát để có được các hiệu ứng khác nhau"
   ]
  },
  {
   "cell_type": "code",
   "execution_count": 22,
   "metadata": {},
   "outputs": [],
   "source": [
    "import cv2\n",
    "import numpy as np\n",
    "img = cv2.imread('input\\input.jpg')\n",
    "rows, cols = img.shape[:2]\n",
    "src_points = np.float32([[0,0], [0,rows-1], [cols/2,0],[cols/2,rows-1]])\n",
    "dst_points = np.float32([[0,100], [0,rows-101],\n",
    "[cols/2,0],[cols/2,rows-1]])\n",
    "projective_matrix = cv2.getPerspectiveTransform(src_points, dst_points)\n",
    "img_output = cv2.warpPerspective(img, projective_matrix, (cols,rows))\n",
    "cv2.imshow('Input', img)\n",
    "cv2.imshow('Output', img_output)\n",
    "cv2.waitKey()\n",
    "cv2.destroyAllWindows()"
   ]
  },
  {
   "cell_type": "markdown",
   "metadata": {},
   "source": [
    "- Như một bài tập, bạn nên ánh xạ các điểm trước trên một mặt phẳng và xem các điểm đó như thế nào ánh xạ (giống như chúng ta đã làm trước đó, trong khi thảo luận về các phép biến đổi **affine**). \n",
    "- Bạn hiểu rõ về hệ thống ánh xạ và bạn có thể tạo điều khiển các điểm theo ý của mình. Nếu chúng ta muốn có được hiệu ứng tương tự trên trục $y$, chúng ta có thể áp dụng trước đó biến đổi."
   ]
  },
  {
   "cell_type": "markdown",
   "metadata": {},
   "source": [
    "## 9. Image warping"
   ]
  },
  {
   "cell_type": "markdown",
   "metadata": {},
   "source": [
    "- Chúng ta hãy vui vẻ hơn với những hình ảnh và xem những gì chúng ta có thể đạt được.\n",
    "- Các phép biến đổi phóng xạ khá linh hoạt, nhưng chúng vẫn áp đặt một số hạn chế về cách chúng ta có thể biến đổi các điểm. \n",
    "- Điều gì nếu chúng ta muốn làm một cái gì đó hoàn toàn ngẫu nhiên? Chúng ta cần kiểm soát nhiều hơn, phải không? Nó chỉ xảy ra như vậy chúng ta có thể làm điều đó là tốt. Chúng ta chỉ cần tạo bản đồ của riêng mình và điều đó không khó. \n",
    "- Sau đây là một vài hiệu ứng mà bạn có thể đạt được với độ cong hình ảnh:"
   ]
  },
  {
   "cell_type": "code",
   "execution_count": 23,
   "metadata": {},
   "outputs": [],
   "source": [
    "import cv2\n",
    "import numpy as np\n",
    "import math\n",
    "img = cv2.imread('input\\input.jpg', cv2.IMREAD_GRAYSCALE)\n",
    "rows, cols = img.shape\n",
    "####################Ê\n",
    "# Vertical wave\n",
    "img_output = np.zeros(img.shape, dtype=img.dtype)\n",
    "for i in range(rows):\n",
    "    for j in range(cols):\n",
    "        offset_x = int(25.0 * math.sin(2 * 3.14 * i / 180))\n",
    "        offset_y = 0\n",
    "        if j+offset_x < rows:\n",
    "            img_output[\n",
    "                i,j] = img[i,(j+offset_x)%cols]\n",
    "        else:\n",
    "            img_output[i,j] = 0\n",
    "cv2.imshow('Input', img)\n",
    "cv2.imshow('Vertical wave', img_output)\n",
    "#####################\n",
    "# Horizontal wave\n",
    "img_output = np.zeros(img.shape, dtype=img.dtype)\n",
    "for i in range(rows):\n",
    "    for j in range(cols):\n",
    "        offset_x = 0\n",
    "        offset_y = int(16.0 * math.sin(2 * 3.14 * j / 150))\n",
    "        if i+offset_y < rows:\n",
    "            img_output[i,j] = img[(i+offset_y)%rows,j]\n",
    "        else:\n",
    "            img_output[i,j] = 0\n",
    "            \n",
    "cv2.imshow('Horizontal wave', img_output)\n",
    "#####################\n",
    "# Both horizontal and vertical\n",
    "img_output = np.zeros(img.shape, dtype=img.dtype)\n",
    "for i in range(rows):\n",
    "    for j in range(cols):\n",
    "        offset_x = int(20.0 * math.sin(2 * 3.14 * i / 150))\n",
    "        offset_y = int(20.0 * math.cos(2 * 3.14 * j / 150))\n",
    "        if i+offset_y < rows and j+offset_x < cols:\n",
    "            img_output[i,j] = img[(i+offset_y)%rows,(j+offset_x)%cols]\n",
    "        else:\n",
    "            img_output[i,j] = 0\n",
    "\n",
    "cv2.imshow('Multidirectional wave', img_output)\n",
    "#####################\n",
    "# Concave effect\n",
    "img_output = np.zeros(img.shape, dtype=img.dtype)\n",
    "for i in range(rows):\n",
    "    for j in range(cols):\n",
    "        offset_x = int(128.0 * math.sin(2 * 3.14 * i / (2*cols)))\n",
    "        offset_y = 0\n",
    "        if j+offset_x < cols:\n",
    "            img_output[i,j] = img[i,(j+offset_x)%cols]\n",
    "        else:\n",
    "            img_output[i,j] = 0\n",
    "            \n",
    "cv2.imshow('Concave', img_output)\n",
    "cv2.waitKey()\n",
    "cv2.destroyAllWindows()"
   ]
  },
  {
   "cell_type": "markdown",
   "metadata": {},
   "source": [
    "## Kết luận"
   ]
  },
  {
   "cell_type": "markdown",
   "metadata": {},
   "source": [
    "- Chúng ta đã thảo luận về cách đọc, hiển thị và lưu hình ảnh. Chúng ta đã nói về tầm quan trọng của các không gian màu khác nhau và cách chúng ta có thể chuyển đổi thành nhiều không gian màu, tách và hợp nhất chúng. \n",
    "- Chúng ta đã học cách áp dụng các phép biến đổi hình học cho hình ảnh và hiểu cách sử dụng các phép biến đổi đó để đạt được các hiệu ứng hình học thú vị. \n",
    "- Chúng ta đã thảo luận về công thức cơ bản của ma trận biến đổi và cách chúng ta có thể xây dựng các loại biến đổi khác nhau dựa trên nhu cầu của chúng ta.\n",
    "- Chúng ta đã học cách chọn điểm kiểm soát dựa trên phép biến đổi hình học cần thiết. Chúng ta đã thảo luận về các phép biến đổi ?? và học cách sử dụng ?? hình ảnh để đạt được bất kỳ hiệu ứng hình học nào.\n",
    "- Trong chương tiếp theo, chúng ta sẽ thảo luận về phát hiện cạnh và lọc hình ảnh. Chúng ta có thể áp dụng rất nhiều hiệu ứng hình ảnh bằng cách sử dụng các bộ lọc hình ảnh và sự hình thành bên dưới cho chúng ta rất nhiều sự tự do để thao tác hình ảnh theo những cách sáng tạo."
   ]
  }
 ],
 "metadata": {
  "kernelspec": {
   "display_name": "Python 3",
   "language": "python",
   "name": "python3"
  },
  "language_info": {
   "codemirror_mode": {
    "name": "ipython",
    "version": 3
   },
   "file_extension": ".py",
   "mimetype": "text/x-python",
   "name": "python",
   "nbconvert_exporter": "python",
   "pygments_lexer": "ipython3",
   "version": "3.7.5"
  },
  "latex_envs": {
   "LaTeX_envs_menu_present": true,
   "autoclose": false,
   "autocomplete": true,
   "bibliofile": "biblio.bib",
   "cite_by": "apalike",
   "current_citInitial": 1,
   "eqLabelWithNumbers": true,
   "eqNumInitial": 1,
   "hotkeys": {
    "equation": "Ctrl-E",
    "itemize": "Ctrl-I"
   },
   "labels_anchors": false,
   "latex_user_defs": false,
   "report_style_numbering": false,
   "user_envs_cfg": false
  },
  "toc": {
   "base_numbering": 1,
   "nav_menu": {},
   "number_sections": false,
   "sideBar": true,
   "skip_h1_title": true,
   "title_cell": "Table of Contents",
   "title_sidebar": "Contents",
   "toc_cell": false,
   "toc_position": {},
   "toc_section_display": true,
   "toc_window_display": true
  }
 },
 "nbformat": 4,
 "nbformat_minor": 2
}
